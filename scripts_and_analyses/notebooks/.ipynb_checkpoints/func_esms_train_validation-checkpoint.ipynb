{
 "cells": [
  {
   "cell_type": "markdown",
   "id": "77a5c42e-b815-413e-8e94-f87763bd7910",
   "metadata": {},
   "source": [
    "# FunC-ESMs training and validation"
   ]
  },
  {
   "cell_type": "markdown",
   "id": "e8db4489-b198-4ff8-9fd3-60867515dcba",
   "metadata": {},
   "source": [
    "Paper title: Decoding molecular mechanisms for loss of function variants in the human proteome\n",
    "\n",
    "Authors: Matteo Cagiada, Nicolas Jonsson and Kresten Lindorff-Larsen\n",
    "\n",
    "Correspondence to: K.L.-L. (lindorff@bio.ku.dk)\n",
    "\n",
    "Notebook by: Matteo Cagiada (matteo.cagiada@bio.ku.dk)"
   ]
  },
  {
   "cell_type": "markdown",
   "id": "d90e558b-26dc-4a6e-a64b-d9480554dfa4",
   "metadata": {},
   "source": [
    "## Functions"
   ]
  },
  {
   "cell_type": "code",
   "execution_count": 1,
   "id": "1c37fc2f-8c51-472f-95ea-fe214d6ff03b",
   "metadata": {
    "tags": []
   },
   "outputs": [],
   "source": [
    "import numpy as np ## numpy 1.26.4\n",
    "import os,sys\n",
    "import pandas as pd ## pandas 2.2.1\n",
    "import scipy as sp ## scipy 1.12.0\n",
    "from scipy import stats\n",
    "\n",
    "import matplotlib as mpl ## matplotlib 3.8\n",
    "import matplotlib.pyplot as plt\n",
    "from matplotlib.colors import ListedColormap\n",
    "import matplotlib.gridspec as gridspec\n",
    " \n",
    "from glob import glob\n",
    "\n",
    "from sklearn.metrics import roc_curve, auc, classification_report ## skiti-learn 1.3.0\n",
    "from sklearn.model_selection import RepeatedStratifiedKFold\n",
    "\n",
    "import warnings\n",
    "warnings.filterwarnings('ignore')"
   ]
  },
  {
   "cell_type": "code",
   "execution_count": 2,
   "id": "fbf23ff8-34e2-4fdd-9351-d02d9773a3b1",
   "metadata": {
    "tags": []
   },
   "outputs": [],
   "source": [
    "mpl.rcParams['xtick.labelsize'] = 14\n",
    "mpl.rcParams['ytick.labelsize'] = 14\n",
    "mpl.rcParams['axes.labelsize']  = 16\n",
    "mpl.rcParams['legend.fontsize'] = 14"
   ]
  },
  {
   "cell_type": "code",
   "execution_count": 3,
   "id": "ec2ab1b0-d1ef-4a80-afac-09aa7c710581",
   "metadata": {
    "tags": []
   },
   "outputs": [],
   "source": [
    "alphabetAA_L_D={'-':0,'_' :0,'A':1,'C':2,'D':3,'E':4,'F':5,'G':6,'H':7,'I':8,'K':9,'L':10,'M':11,'N':12,'P':13,'Q':14,'R':15,'S':16,'T':17,'V':18,'W':19,'Y':20}\n",
    "alphabetAA_D_L={v: k for k, v in alphabetAA_L_D.items()}\n",
    "               \n",
    "alphabetAA_3L_1L={\"Ter\":'*',\"Gap\":'-',\"Ala\":'A',\"Cys\":'C',\"Asp\":'D',\"Glu\":'E',\"Phe\":'F',\"Gly\":'G',\"His\":'H',\"Ile\":'I',\"Lys\":'K',\"Leu\":'L',\"Met\":'M',\"Asn\":'N',\"Pro\":'P',\"Gln\":'Q',\"Arg\":'R',\"Ser\":'S',\"Thr\":'T',\"Val\" :'V',\"Trp\":'W',\"Tyr\":'Y'}\n",
    "alphabetAA_1L_3L={v: k for k,v in alphabetAA_3L_1L.items()}\n",
    "\n",
    "alphabetAA_L_D_reordered={0:'R',1:'H',2:'K',3:'D',4:'E',5:'S',6:'T',7:'N',8:'Q',9:'C',10:'G',11:'P',12:'A',13:'V',14:'I',15:'L',16:'M',17:'F',18:'Y',19:'W'}\n",
    "alphabetAA_D_D_reordered={14:0,6:1,8:2,2:3,3:4,15:5,16:6,11:7,13:8,1:9,5:10,12:11,0:12,17:13,7:14,9:15,10:16,4:17,19:18,18:19}"
   ]
  },
  {
   "cell_type": "code",
   "execution_count": 4,
   "id": "234e2180-3946-421d-8de5-61fb615d2090",
   "metadata": {
    "tags": []
   },
   "outputs": [],
   "source": [
    "def normalize_cutoff(scores,lowcut,highcut):\n",
    "    normalized_scores=np.copy(scores)\n",
    "    for i in range(scores.shape[0]):\n",
    "        for j in range(scores.shape[1]):\n",
    "            if scores[i,j] < lowcut:\n",
    "                normalized_scores[i,j]=lowcut\n",
    "            elif scores[i,j] > highcut:\n",
    "                normalized_scores[i,j]=highcut\n",
    "            else:\n",
    "                normalized_scores[i,j]=scores[i,j]\n",
    "    return normalized_scores"
   ]
  },
  {
   "cell_type": "code",
   "execution_count": 5,
   "id": "7a4d701c-96d9-4e8e-a4bd-9ccc8420b20d",
   "metadata": {
    "tags": []
   },
   "outputs": [],
   "source": [
    "def load_data(data,wt_seq,start_gap=0,column_score=1):\n",
    "    df=pd.read_csv(data, delim_whitespace=True, comment='#')\n",
    "    mutation_load=np.array(df.iloc[:,0])\n",
    "    score_load=np.array(df.iloc[:,column_score])\n",
    "    scores=np.empty((len(wt_seq),20),dtype=float)\n",
    "    scores[:]=np.nan\n",
    "    for i in range(len(mutation_load)):\n",
    "        if  mutation_load[i][len(mutation_load[i])-1]!= '=' and mutation_load[i][len(mutation_load[i])-1]!= '*':\n",
    "            scores[int(mutation_load[i][1:len(mutation_load[i])-1])-1+start_gap, alphabetAA_L_D[mutation_load[i][len(mutation_load[i])-1]]-1]= float(score_load[i])\n",
    "    return scores"
   ]
  },
  {
   "cell_type": "code",
   "execution_count": 6,
   "id": "c78ec793-40cc-4a1d-8564-865cde9e3449",
   "metadata": {
    "tags": []
   },
   "outputs": [],
   "source": [
    "def prism_extract_WT_sequence(file_pred):\n",
    "    header_parse = pd.read_csv(file_pred, sep='#', skipinitialspace=True, header=None)\n",
    "    hd = header_parse.iloc[:, 1].dropna()\n",
    "    \n",
    "    return hd[6].split()[1]"
   ]
  },
  {
   "cell_type": "code",
   "execution_count": 7,
   "id": "96fd2a00-6316-4b48-9792-b1cb8bc3af69",
   "metadata": {
    "tags": []
   },
   "outputs": [],
   "source": [
    "def esms_model_variant_classes(esm1b_score,esmif_score,esm1b_t=-8.07,esmif_t=-8.94):\n",
    "    \n",
    "    assert esm1b_score.shape[0] == esmif_score.shape[0], \"shapes of input scores don't match!\"\n",
    "    \n",
    "    esms_v_class=np.empty((esm1b_score.shape[0]),dtype=float)\n",
    "    esms_v_class[:]=np.nan\n",
    "    \n",
    "    for i in range(esms_v_class.shape[0]):\n",
    "        if np.isnan(esm1b_score[i]) or np.isnan(esmif_score[i]):\n",
    "            continue\n",
    "            \n",
    "        else:\n",
    "            if esm1b_score[i] > esm1b_t:\n",
    "                esms_v_class[i]=0\n",
    "            else:\n",
    "                if esmif_score[i] > esmif_t:\n",
    "                    esms_v_class[i]=1\n",
    "                else:\n",
    "                    esms_v_class[i]=2\n",
    "    \n",
    "    return esms_v_class\n",
    "    "
   ]
  },
  {
   "cell_type": "code",
   "execution_count": 8,
   "id": "897341b9-c1d0-4857-9792-a8384eed5208",
   "metadata": {
    "tags": []
   },
   "outputs": [],
   "source": [
    "def multiclass_threshold(data_abund,data_funct,t_x,t_y):\n",
    "    labels=np.copy(data_abund)\n",
    "    labels[:]=np.nan\n",
    "    \n",
    "    for i in range(data_abund.shape[0]):\n",
    "        for j in range(data_abund.shape[1]):\n",
    "            if np.isnan(data_abund[i,j])!= True and np.isnan(data_funct[i,j])!=True:\n",
    "                if data_abund[i,j] > t_x and data_funct[i,j]<t_y:\n",
    "                    labels[i,j]=1\n",
    "                elif data_abund[i,j] < t_x and data_funct[i,j]<t_y:\n",
    "                    labels[i,j]=2\n",
    "                elif data_abund[i,j] < t_x and data_funct[i,j]>t_y:\n",
    "                    labels[i,j]=np.nan\n",
    "                else:\n",
    "                    labels[i,j]=0\n",
    "    \n",
    "    return labels"
   ]
  },
  {
   "cell_type": "code",
   "execution_count": 9,
   "id": "8a0a624c-745c-49c7-80ad-7892f431fff1",
   "metadata": {
    "tags": []
   },
   "outputs": [],
   "source": [
    "def features_classification(list_features_x,list_output_y,WT):\n",
    "    \n",
    "    X=[]\n",
    "    Y=[]\n",
    "    mapping_pos=[] \n",
    "    \n",
    "    for i in range(len(WT)):\n",
    "        for j in range(20):\n",
    "            if j!=(alphabetAA_L_D[WT[i]]-1):\n",
    "                temp_x=[]\n",
    "                temp_y=[]\n",
    "                cond=True\n",
    "\n",
    "                for elem in list_features_x:\n",
    "                    if elem.ndim==1:\n",
    "                        if np.isnan(elem[i])==True:\n",
    "                            cond=False\n",
    "                    else:\n",
    "                        if np.isnan(elem[i,j])==True:\n",
    "                            cond=False    \n",
    "                \n",
    "                for elem in list_output_y:\n",
    "                    if elem.ndim==1:\n",
    "                        if np.isnan(elem[i])==True:\n",
    "                            cond=False\n",
    "                    else:\n",
    "                        if np.isnan(elem[i,j])==True:\n",
    "                            cond=False \n",
    "\n",
    "                if cond==True:\n",
    "                    \n",
    "                    for elem in list_features_x:\n",
    "                        if elem.ndim==1:\n",
    "                            temp_x.append(elem[i])\n",
    "                        else:\n",
    "                            temp_x.append(elem[i,j])\n",
    "\n",
    "                    for elem in list_output_y:\n",
    "                        if elem.ndim==1:\n",
    "                            temp_y.append(elem[i])\n",
    "                        else:\n",
    "                            temp_y.append(elem[i,j])\n",
    "                    \n",
    "                if len(temp_x)>0:\n",
    "                    X.append(temp_x)\n",
    "                    Y.append(temp_y)\n",
    "                    mapping_pos.append([i,j])\n",
    "        \n",
    "    return np.array(X),Y,mapping_pos        "
   ]
  },
  {
   "cell_type": "code",
   "execution_count": 10,
   "id": "1a454d4c-e5b0-4425-a5d8-f8dbfdedf91a",
   "metadata": {
    "tags": []
   },
   "outputs": [],
   "source": [
    "def retrieve_residue_label_pred(prediction,variant_map,WT,percentage_threshold):\n",
    "    scores=np.empty((len(WT),20),dtype=float)\n",
    "    scores[:]=np.nan\n",
    "    \n",
    "    i=0\n",
    "    for cord in variant_map:\n",
    "        scores[cord[0],cord[1]]=prediction[i]\n",
    "        i+=1\n",
    "    \n",
    "    count_pos=np.zeros((len(WT),4),dtype=float)\n",
    "    \n",
    "    pseudomode_value_class=np.empty(len(WT),dtype=float)\n",
    "    pseudomode_value_class[:]=np.nan\n",
    "    percentage=np.zeros((len(WT),2),dtype=float)\n",
    "        \n",
    "    for i in range(len(pseudomode_value_class)):\n",
    "        count=0\n",
    "        for j in range(scores.shape[1]):\n",
    "            if np.isnan(scores[i,j])!=True:\n",
    "                count+=1\n",
    "        if count>0:\n",
    "            for j in range(scores.shape[1]):\n",
    "                    if np.isnan(scores[i,j])!=True:\n",
    "                        count_pos[i,int(scores[i,j])]+=1\n",
    "            count_pos=count_pos/count\n",
    "            if np.any(count_pos[i,:]>=0.50):\n",
    "                pseudomode_value_class[i]=np.argmax(count_pos[i,:])\n",
    "                percentage[i,0]=count_pos[i,1]\n",
    "                #print(i, count_pos[i,:],np.max(count_pos[i,:]),np.argmax(count_pos[i,:]),pseudomode_value_class[i])\n",
    "\n",
    "\n",
    "            else:                \n",
    "                pseudomode_value_class[i]=5\n",
    "                percentage[i,0]=count_pos[i,1]\n",
    "                #print(i, count_pos[i,:],np.max(count_pos[i,:]),np.argmax(count_pos[i,:]),'else',pseudomode_value_class[i])\n",
    "                ## 5 indicates mixed signal with no predominat mutation class\n",
    "            \n",
    "            percentage[i,1]=count\n",
    "    \n",
    "    #mode_value_class, counts_mode=sp.stats.mode(scores,axis=1,nan_policy='omit')\n",
    "    \n",
    "    return pseudomode_value_class,percentage"
   ]
  },
  {
   "cell_type": "code",
   "execution_count": 11,
   "id": "2472b7ab-542a-4c6d-b568-3f8eedc9790d",
   "metadata": {
    "tags": []
   },
   "outputs": [],
   "source": [
    "def multiclass_threshold(data_x,data_y,t_x,t_y):\n",
    "    labels=np.copy(data_x)\n",
    "    labels[:]=np.nan\n",
    "    \n",
    "    for i in range(data_x.shape[0]):\n",
    "        for j in range(data_x.shape[1]):\n",
    "            if np.isnan(data_x[i,j])!= True and np.isnan(data_y[i,j])!=True:\n",
    "                if data_x[i,j] > t_x and data_y[i,j]<t_y:\n",
    "                    labels[i,j]=1\n",
    "                elif data_x[i,j] < t_x and data_y[i,j]<t_y:\n",
    "                    labels[i,j]=2\n",
    "                elif data_x[i,j] < t_x and data_y[i,j]>t_y:\n",
    "                    labels[i,j]=np.nan\n",
    "                else:\n",
    "                    labels[i,j]=0\n",
    "    \n",
    "    return labels"
   ]
  },
  {
   "cell_type": "code",
   "execution_count": 12,
   "id": "739d3ac5-9c59-41ed-98c7-25ec8fb0761f",
   "metadata": {
    "tags": []
   },
   "outputs": [],
   "source": [
    "def load_pg_exp(data,seq,score_type):\n",
    "    score_types = ['score', 'bin']\n",
    "\n",
    "    scores=np.empty((len(seq),20),dtype=float)\n",
    "    scores[:]=np.nan\n",
    "    \n",
    "    df=pd.read_csv(data)\n",
    "    mutation_load=df['mutant'].to_numpy()\n",
    "    \n",
    "    if score_type not in score_types:\n",
    "        print('ERR: Use \"score\" or \"bin\" as inpuf for score type')\n",
    "        return scores\n",
    "    \n",
    "    else:\n",
    "        if score_type == 'score':\n",
    "            score_load=df['DMS_score'].to_numpy()\n",
    "        else:\n",
    "            score_load=df['DMS_score_bin'].to_numpy()\n",
    "     \n",
    "    for i,(mut,score) in enumerate(zip(mutation_load,score_load)):\n",
    "        if not ':' in mut: \n",
    "            if  mut[-1]!= '=' and mut[-1]!= '*':\n",
    "                scores[int(mut[1:-1])-1, alphabetAA_L_D[mut[-1]]-1]= float(score)\n",
    "              \n",
    "    return scores"
   ]
  },
  {
   "cell_type": "markdown",
   "id": "dddc2007-e960-46d9-a2a2-fbf4c1746397",
   "metadata": {},
   "source": [
    "## ESM1b - evaluate optimal threshold"
   ]
  },
  {
   "cell_type": "markdown",
   "id": "5103882d-da4a-4fe6-9389-9c752fa18caa",
   "metadata": {},
   "source": [
    "### Load proteingym\n",
    "\n",
    "load proteingym and filter out unwanted MAVEs such as stability and viral assays..\n",
    "\n",
    "<b><font color='#d55c00'>N.B. Proteigym assay files ARE NOT INCLUDED and need to be to be downloaded from the original source and add to the correct data folder</font></b>"
   ]
  },
  {
   "cell_type": "code",
   "execution_count": 154,
   "id": "1684673a-3195-495b-b728-9d384a7b17a0",
   "metadata": {},
   "outputs": [],
   "source": [
    "pg_info_df=pd.read_csv('../data/data_train_validation_func_esms/extra_data//ProteinGym_reference_file_substitutions.csv')  ##load protein gym file here"
   ]
  },
  {
   "cell_type": "code",
   "execution_count": 155,
   "id": "82a52726-1e11-48ab-90b2-049f3dd44e2a",
   "metadata": {
    "tags": []
   },
   "outputs": [],
   "source": [
    "pg_info_notvirus_df=pg_info_df.query('taxon != \"Virus\"')"
   ]
  },
  {
   "cell_type": "code",
   "execution_count": 156,
   "id": "bf7ed73d-8ea7-4e09-be92-4306e5c0eef2",
   "metadata": {
    "tags": []
   },
   "outputs": [],
   "source": [
    "not_wanted_assays=['FACS','Protein stability','Fluorescence']\n",
    "pg_info_notvirus_nostab_df= pg_info_notvirus_df.query('not selection_type in @not_wanted_assays ')"
   ]
  },
  {
   "cell_type": "code",
   "execution_count": 157,
   "id": "7c28bbbb-055c-4d38-9834-99cd65d31d14",
   "metadata": {
    "tags": []
   },
   "outputs": [],
   "source": [
    "not_val_protein_assays=['VKOR1_HUMAN','PTEN_HUMAN','NUD15_HUMAN','CP2C9_HUMAN']\n",
    "pg_info_notvirus_nostab_train_df= pg_info_notvirus_df.query('not UniProt_ID in @not_val_protein_assays ')"
   ]
  },
  {
   "cell_type": "code",
   "execution_count": 158,
   "id": "018caf30-cf96-403a-a3db-f55fa0a1b8d2",
   "metadata": {
    "tags": []
   },
   "outputs": [],
   "source": [
    "target_seqs=pg_info_notvirus_nostab_train_df['target_seq'].to_list()"
   ]
  },
  {
   "cell_type": "code",
   "execution_count": 159,
   "id": "ce839e61-5be5-489c-a73b-72c7ea93bc9f",
   "metadata": {
    "tags": []
   },
   "outputs": [],
   "source": [
    "id_seqs=pg_info_notvirus_nostab_train_df['UniProt_ID'].to_list()"
   ]
  },
  {
   "cell_type": "code",
   "execution_count": 160,
   "id": "0c2e495b-a24d-4c52-af19-b6df719630f5",
   "metadata": {
    "tags": []
   },
   "outputs": [],
   "source": [
    "id_dms=pg_info_notvirus_nostab_train_df['DMS_id'].to_list()"
   ]
  },
  {
   "cell_type": "markdown",
   "id": "6724bc4a-2ef9-4c43-82dc-2aa450e5199f",
   "metadata": {},
   "source": [
    "### pair pg scorers with esm-1b and esm-IF\n",
    "\n",
    "<b><font color='#d55c00'>N.B. Remember to download Proteingim assay files add to the correct data folder (dir_exp)</font></b>"
   ]
  },
  {
   "cell_type": "code",
   "execution_count": 20,
   "id": "5693ec18-8c17-4e0c-a72d-e419c433f287",
   "metadata": {
    "tags": []
   },
   "outputs": [],
   "source": [
    "dir_esm1b='../data/data_train_validation_func_esms/esm_1b/proteingym_scores/'\n",
    "dir_esmif='../data/data_train_validation_func_esms/esm_if/proteingym_scores/'\n",
    "dir_exp='../data/data_train_validation_func_esms/ProteinGym_substitutions/'"
   ]
  },
  {
   "cell_type": "code",
   "execution_count": 21,
   "id": "9d3f9f55-fb97-4532-a177-12bd27465999",
   "metadata": {
    "scrolled": true,
    "tags": []
   },
   "outputs": [
    {
     "name": "stdout",
     "output_type": "stream",
     "text": [
      "A0A1I9GEU1_NEIME\n",
      "A4_HUMAN\n",
      "A4GRB6_PSEAI\n",
      "AACC1_PSEAI\n",
      "ADRB2_HUMAN\n",
      "AMIE_PSEAE\n",
      "LGK_LIPST\n",
      "BLAT_ECOLX\n",
      "BLAT_ECOLX\n",
      "BLAT_ECOLX\n",
      "BLAT_ECOLX\n",
      "BRCA1_HUMAN\n",
      "Input data not found!\n",
      "WT sequences are not matching\n",
      "CALM1_HUMAN\n",
      "CCDB_ECOLI\n",
      "CCDB_ECOLI\n",
      "DLG4_HUMAN\n",
      "DLG4_RAT\n",
      "DYR_ECOLI\n",
      "ESTA_BACSU\n",
      "F7YBW8_MESOW\n",
      "GAL4_YEAST\n",
      "GCN4_YEAST\n",
      "GFP_AEQVI\n",
      "GRB2_HUMAN\n",
      "HIS7_YEAST\n",
      "HSP82_YEAST\n",
      "HSP82_YEAST\n",
      "IF1_ECOLI\n",
      "KCNH2_HUMAN\n",
      "Input data not found!\n",
      "WT sequences are not matching\n",
      "KKA2_KLEPN\n",
      "MK01_HUMAN\n",
      "MSH2_HUMAN\n",
      "MTH3_HAEAE\n",
      "P53_HUMAN\n",
      "P53_HUMAN\n",
      "P53_HUMAN\n",
      "P53_HUMAN\n",
      "WT sequences are not matching\n",
      "P84126_THETH\n",
      "PABP_YEAST\n",
      "Q59976_STRSQ\n",
      "RASH_HUMAN\n",
      "RL40A_YEAST\n",
      "RL40A_YEAST\n",
      "RL40A_YEAST\n",
      "SC6A4_HUMAN\n",
      "SCN5A_HUMAN\n",
      "Input data not found!\n",
      "WT sequences are not matching\n",
      "SPG1_STRSG\n",
      "SRC_HUMAN\n",
      "SUMO1_HUMAN\n",
      "SYUA_HUMAN\n",
      "TADBP_HUMAN\n",
      "TPK1_HUMAN\n",
      "TPMT_HUMAN\n",
      "TPOR_HUMAN\n",
      "TRPC_SACS2\n",
      "TRPC_THEMA\n",
      "UBC9_HUMAN\n",
      "UBE4B_MOUSE\n",
      "Input data not found!\n",
      "WT sequences are not matching\n",
      "YAP1_HUMAN\n"
     ]
    }
   ],
   "source": [
    "result_correlation=[]\n",
    "for i,(prot_id,prot_dms,prot_seq) in enumerate(zip(id_seqs,id_dms,target_seqs)):\n",
    "    \n",
    "    print(prot_id)\n",
    "    try:\n",
    "        file_esm1b=glob(dir_esm1b+'/*_'+prot_id+'_*.txt')[0]\n",
    "        wt_esm1b=prism_extract_WT_sequence(file_esm1b)\n",
    "        file_esmif=glob(dir_esmif+'/*_'+prot_id+'_*.txt')[0]\n",
    "        wt_esmif=prism_extract_WT_sequence(file_esmif)\n",
    "        \n",
    "        file_exp=glob(dir_exp+'/'+prot_dms+'*.csv')[0]\n",
    "        \n",
    "    except:\n",
    "        print('Input data not found!')\n",
    "        pass\n",
    "    \n",
    "    if prot_seq != wt_esm1b or prot_seq != wt_esmif:\n",
    "        print('WT sequences are not matching')\n",
    "        pass\n",
    "    \n",
    "    esm1b_sel=load_data(file_esm1b,prot_seq)\n",
    "    esmif_sel=load_data(file_esmif,prot_seq)\n",
    "    dms_sel=load_pg_exp(file_exp,prot_seq,'score')\n",
    "    \n",
    "    \n",
    "    idx_1b = np.isfinite(esm1b_sel.flatten()) & np.isfinite(dms_sel.flatten())\n",
    "    idx_if = np.isfinite(esmif_sel.flatten()) & np.isfinite(dms_sel.flatten())\n",
    "    \n",
    "    result_correlation.append([prot_dms,np.abs(sp.stats.spearmanr(dms_sel.flatten()[idx_1b],esm1b_sel.flatten()[idx_1b])[0]),np.abs(sp.stats.spearmanr(dms_sel.flatten()[idx_if],esmif_sel.flatten()[idx_if])[0])])    "
   ]
  },
  {
   "cell_type": "markdown",
   "id": "339f4d39-9ba1-478c-bb66-c6f58ef5e77c",
   "metadata": {},
   "source": [
    "### eval and plot correlation"
   ]
  },
  {
   "cell_type": "code",
   "execution_count": 22,
   "id": "95378751-906b-4379-b3a6-5d3be29bc384",
   "metadata": {
    "tags": []
   },
   "outputs": [],
   "source": [
    "corr_dms_df=pd.DataFrame(result_correlation,columns=['dms_name','sp_1b','sp_if'])"
   ]
  },
  {
   "cell_type": "code",
   "execution_count": 23,
   "id": "3fad8d8e-3486-40c4-af01-c197214e4cda",
   "metadata": {
    "tags": []
   },
   "outputs": [
    {
     "data": {
      "text/plain": [
       "<matplotlib.legend.Legend at 0x16c573b80>"
      ]
     },
     "execution_count": 23,
     "metadata": {},
     "output_type": "execute_result"
    },
    {
     "data": {
      "image/png": "[encoded data removed]",
      "text/plain": [
       "<Figure size 600x600 with 1 Axes>"
      ]
     },
     "metadata": {},
     "output_type": "display_data"
    }
   ],
   "source": [
    "fig,ax=plt.subplots(1,1,figsize=(6,6))\n",
    "\n",
    "ax.scatter(corr_dms_df['sp_1b'].to_numpy(),corr_dms_df['sp_if'].to_numpy(),facecolor='#009e74',edgecolor='k',s=50,label = 'used in training')\n",
    "\n",
    "ax.set_xlim(-0.01,0.8)\n",
    "ax.set_ylim(-0.01,0.8)\n",
    "ax.set_xlabel(\"Spearman's ESM1b\")\n",
    "ax.set_ylabel(\"Spearman's ESM-IF\")\n",
    "\n",
    "ax.plot([0.4,1],[0.3,0.3],'--',c='#d55c00',lw=2)\n",
    "ax.plot([0.4,0.4],[0.3,1],'--',c='#d55c00',lw=2)\n",
    "ax.plot([0.4,0.4],[0.3,1],'--',c='#d55c00',lw=2)\n",
    "ax.plot([-0.02,1],[-0.02,1],'--',c='gray',lw=2,zorder=-10)\n",
    "\n",
    "ax.legend()\n",
    "\n",
    "#plt.savefig('../figures/correlation_with_protgym.pdf')"
   ]
  },
  {
   "cell_type": "markdown",
   "id": "6f2c1ef9-7190-47c7-889d-a80bb0593cf2",
   "metadata": {},
   "source": [
    "### Create train/test set for optimising threshold"
   ]
  },
  {
   "cell_type": "code",
   "execution_count": 24,
   "id": "0eaa24c4-76bf-4c5a-b2eb-fdf2784626b0",
   "metadata": {
    "tags": []
   },
   "outputs": [],
   "source": [
    "corr_dms_df_quality=corr_dms_df.query(\"sp_1b > 0.4 & sp_if >0.3 & sp_1b >sp_if\")"
   ]
  },
  {
   "cell_type": "code",
   "execution_count": 25,
   "id": "9e5bd10d-f5f3-466f-b3de-afb206394c7f",
   "metadata": {
    "tags": []
   },
   "outputs": [],
   "source": [
    "training_dms=corr_dms_df_quality['dms_name'].to_numpy()"
   ]
  },
  {
   "cell_type": "code",
   "execution_count": 26,
   "id": "620072e5-b19a-4e00-b397-ade0c63c1c1b",
   "metadata": {
    "scrolled": true,
    "tags": []
   },
   "outputs": [
    {
     "name": "stdout",
     "output_type": "stream",
     "text": [
      "A4GRB6_PSEAI_Chen_2020\n",
      "AACC1_PSEAI_Dandage_2018\n",
      "ADRB2_HUMAN_Jones_2020\n",
      "AMIE_PSEAE_Wrenbeck_2017\n",
      "BLAT_ECOLX_Deng_2012\n",
      "BLAT_ECOLX_Firnberg_2014\n",
      "BLAT_ECOLX_Jacquier_2013\n",
      "BLAT_ECOLX_Stiffler_2015\n",
      "BRCA1_HUMAN_Findlay_2018\n",
      "Input data not found!\n",
      "WT sequences are not matching\n",
      "CCDB_ECOLI_Adkar_2012\n",
      "CCDB_ECOLI_Tripathi_2016\n",
      "DLG4_RAT_McLaughlin_2012\n",
      "DYR_ECOLI_Thompson_plusLon_2019\n",
      "GCN4_YEAST_Staller_induction_2018\n",
      "IF1_ECOLI_Kelsic_2016\n",
      "KCNH2_HUMAN_Kozek_2020\n",
      "Input data not found!\n",
      "WT sequences are not matching\n",
      "KKA2_KLEPN_Melnikov_2014\n",
      "MTH3_HAEAE_Rockah-Shmuel_2015\n",
      "P53_HUMAN_Giacomelli_NULL_Etoposide_2018\n",
      "P53_HUMAN_Giacomelli_NULL_Nutlin_2018\n",
      "P53_HUMAN_Giacomelli_WT_Nutlin_2018\n",
      "P53_HUMAN_Kotler_2018\n",
      "WT sequences are not matching\n",
      "P84126_THETH_Chan_2017\n",
      "PABP_YEAST_Melamed_2013\n",
      "Q59976_STRSQ_Romero_2015\n",
      "SC6A4_HUMAN_Young_2021\n",
      "SCN5A_HUMAN_Glazer_2019\n",
      "Input data not found!\n",
      "WT sequences are not matching\n",
      "SRC_HUMAN_Ahler_CD_2019\n",
      "TPMT_HUMAN_Matreyek_2018\n",
      "TRPC_SACS2_Chan_2017\n",
      "TRPC_THEMA_Chan_2017\n",
      "YAP1_HUMAN_Araya_2012\n"
     ]
    }
   ],
   "source": [
    "result_correlation=[]\n",
    "\n",
    "X_pg_all=[]\n",
    "Y_pg_all=[]\n",
    "\n",
    "for i,dms in enumerate(training_dms):\n",
    "    print(dms)\n",
    "    training_id=pg_info_notvirus_nostab_train_df.query('DMS_id == @dms')['UniProt_ID'].to_numpy()[0]\n",
    "    training_seq=pg_info_notvirus_nostab_train_df.query('DMS_id == @dms')['target_seq'].to_numpy()[0]\n",
    "    try:\n",
    "        file_esm1b=glob(dir_esm1b+'/*_'+training_id+'_*.txt')[0]\n",
    "        wt_esm1b=prism_extract_WT_sequence(file_esm1b)\n",
    "        \n",
    "        file_exp=glob(dir_exp+'/'+dms+'*.csv')[0]\n",
    "        \n",
    "    except:\n",
    "        print('Input data not found!')\n",
    "        \n",
    "    \n",
    "    if training_seq != wt_esm1b:\n",
    "        print('WT sequences are not matching')\n",
    "        pass\n",
    "    \n",
    "    esm1b_sel=load_data(file_esm1b,training_seq)\n",
    "    dms_sel=load_pg_exp(file_exp,training_seq,'bin')\n",
    "    dms_extra=load_pg_exp(file_exp,training_seq,'score')\n",
    "    \n",
    "    \n",
    "    idx_1b = np.isfinite(esm1b_sel.flatten()) & np.isfinite(dms_sel.flatten())\n",
    "    \n",
    "    tmp_X=list(esm1b_sel.flatten()[idx_1b])\n",
    "    tmp_Y=list(dms_sel.flatten()[idx_1b])\n",
    "    X_pg_all=X_pg_all+tmp_X\n",
    "    Y_pg_all=Y_pg_all+tmp_Y"
   ]
  },
  {
   "cell_type": "code",
   "execution_count": 27,
   "id": "3bd717b0-c6c1-4e73-8518-6ec5d069eca3",
   "metadata": {
    "tags": []
   },
   "outputs": [
    {
     "name": "stdout",
     "output_type": "stream",
     "text": [
      "total training points: 120600\n"
     ]
    }
   ],
   "source": [
    "X_pg_all=np.array(X_pg_all)\n",
    "\n",
    "Y_pg_all=1-np.array(Y_pg_all,dtype=int)\n",
    "\n",
    "print('total training points:',len(X_pg_all))"
   ]
  },
  {
   "cell_type": "markdown",
   "id": "9b81053b-648f-43eb-ad72-796a49ddc01c",
   "metadata": {
    "tags": []
   },
   "source": [
    "### selecting threshold via ROC analysis"
   ]
  },
  {
   "cell_type": "code",
   "execution_count": 28,
   "id": "ab57b7ca-f30a-464c-81ee-634aa161a213",
   "metadata": {
    "tags": []
   },
   "outputs": [],
   "source": [
    "kfold=RepeatedStratifiedKFold(n_splits=4,n_repeats=1,random_state=1)"
   ]
  },
  {
   "cell_type": "code",
   "execution_count": 29,
   "id": "f9ebd01e-1c44-4b79-a73d-b5e7a199e2bb",
   "metadata": {
    "tags": []
   },
   "outputs": [
    {
     "name": "stdout",
     "output_type": "stream",
     "text": [
      "0.7759057731599365 -5.835289001464844\n",
      "0.7763310517474388 -5.790928840637207\n",
      "0.7771518466170807 -5.789756774902344\n",
      "0.7745921569015485 -5.790928840637207\n"
     ]
    }
   ],
   "source": [
    "for train_index, test_index in kfold.split(X_pg_all, Y_pg_all):\n",
    "\n",
    "    X_train, X_test = X_pg_all[train_index], X_pg_all[test_index]\n",
    "    Y_train, Y_test = Y_pg_all[train_index], Y_pg_all[test_index]\n",
    "    \n",
    "    tpr,fpr,thresholds = roc_curve(Y_train,X_train)\n",
    "    \n",
    "    ##  Youden’s J statistic   \n",
    "    J = tpr - fpr\n",
    "    print(auc(fpr,tpr),thresholds[np.argmax(J)])\n",
    "    tpr,fpr,thresholds = roc_curve(Y_test,X_test)\n",
    "    \n",
    "    "
   ]
  },
  {
   "cell_type": "code",
   "execution_count": 30,
   "id": "78209c51-d084-440e-8a10-5be8768ef031",
   "metadata": {
    "tags": []
   },
   "outputs": [],
   "source": [
    "tpr,fpr,thresholds = roc_curve(Y_pg_all,X_pg_all)\n",
    "##  Youden’s J statistic    \n",
    "J = tpr - fpr"
   ]
  },
  {
   "cell_type": "code",
   "execution_count": 31,
   "id": "687cdf45-8ac4-4ae7-911a-4b1e6b13d84e",
   "metadata": {
    "tags": []
   },
   "outputs": [
    {
     "data": {
      "text/plain": [
       "Text(0, 0.5, 'True Positive Rate')"
      ]
     },
     "execution_count": 31,
     "metadata": {},
     "output_type": "execute_result"
    },
    {
     "data": {
      "image/png": "[encoded data removed]",
      "text/plain": [
       "<Figure size 600x600 with 1 Axes>"
      ]
     },
     "metadata": {},
     "output_type": "display_data"
    }
   ],
   "source": [
    "fig,ax=plt.subplots(1,1,figsize=(6,6))\n",
    "\n",
    "ax.plot(\n",
    "    fpr,\n",
    "    tpr,\n",
    "    color=\"#009e74\",\n",
    "    lw=2,\n",
    ")\n",
    "ax.plot([0, 1], [0, 1], color=\"gray\", lw=2, linestyle=\"--\")\n",
    "ax.scatter(fpr[np.argmax(J)],tpr[np.argmax(J)],s=100,edgecolor='k',facecolor='#f0e422',zorder=100)\n",
    "ax.set_xlim([0.0, 1.0])\n",
    "ax.set_ylim([0.0, 1.0])\n",
    "ax.set_xlabel(\"False Positive Rate\")\n",
    "ax.set_ylabel(\"True Positive Rate\")\n",
    "\n",
    "#plt.savefig('../figures/auc_esm1b_protgym.pdf')"
   ]
  },
  {
   "cell_type": "markdown",
   "id": "fff8d8f8-7433-4ff8-8484-75976b1d22db",
   "metadata": {
    "tags": []
   },
   "source": [
    "## ESM-IF - evaluate optimal threshold\n",
    "### load data Tsuboyama 2023\n",
    "\n",
    "upload and filter data in input\n",
    "\n",
    "<b><font color='#d55c00'>N.B. Tsuboyama2023_Dataset2_Dataset3_20230416.csv IS NOT INCLUDED and needs to be downloaded from the original source and add to the data folder</font></b>"
   ]
  },
  {
   "cell_type": "code",
   "execution_count": 32,
   "id": "a701c3f3-fece-4109-aafa-56c82b410e5b",
   "metadata": {
    "tags": []
   },
   "outputs": [],
   "source": [
    "#rockin_data_df=pd.read_csv('../../../../../postdoc_cph_projects/test_esm_if/Tsuboyama2023_Dataset2_Dataset3_20230416.csv') ## local path\n",
    "rockin_data_df=pd.read_csv('../data/data_train_validation_func_esms/Tsuboyama2023_Dataset2_Dataset3_20230416.csv') ## load csv from Tsuboyama2023: Tsuboyama2023_Dataset2_Dataset3_20230416.csv"
   ]
  },
  {
   "cell_type": "code",
   "execution_count": 33,
   "id": "c50d69f4-3388-49c7-a119-f71746c99936",
   "metadata": {
    "tags": []
   },
   "outputs": [],
   "source": [
    "target_pdbs=[]\n",
    "for idx,row in rockin_data_df.iterrows():\n",
    "    if row['mut_type'] == 'wt' or not (':' in row['mut_type'] or 'del' in row['mut_type'] or 'ins' in row['mut_type']) :\n",
    "        if not row['WT_name'] in target_pdbs:\n",
    "            \n",
    "            target_pdbs.append(row['WT_name'])"
   ]
  },
  {
   "cell_type": "code",
   "execution_count": 34,
   "id": "fb34f57c-3fc3-4b1f-bca7-d291e685f7c2",
   "metadata": {
    "tags": []
   },
   "outputs": [],
   "source": [
    "target_real_pdbs=[]\n",
    "for elem in target_pdbs:\n",
    "    if len(elem) == 8:\n",
    "        target_real_pdbs.append(elem[:4])  "
   ]
  },
  {
   "cell_type": "code",
   "execution_count": 35,
   "id": "3cbb54b1-3b0a-4f58-8e71-66ce6c5a1372",
   "metadata": {
    "tags": []
   },
   "outputs": [],
   "source": [
    "tmp=rockin_data_df[ rockin_data_df['mut_type'].str.contains('ins')==False ]"
   ]
  },
  {
   "cell_type": "code",
   "execution_count": 36,
   "id": "9259ab95-ec23-4387-bc3e-9bb8dea7d7b9",
   "metadata": {
    "tags": []
   },
   "outputs": [],
   "source": [
    "tmp=tmp[tmp['mut_type'].str.contains('del')==False ]"
   ]
  },
  {
   "cell_type": "code",
   "execution_count": 37,
   "id": "1011f682-7730-45f5-a219-e1cc0bba7083",
   "metadata": {
    "tags": []
   },
   "outputs": [],
   "source": [
    "rockin_data_df_filtered=tmp[tmp['mut_type'].str.contains(':')==False]"
   ]
  },
  {
   "cell_type": "markdown",
   "id": "59c5e89b-bf5b-49ef-b47a-cd39b49c83cf",
   "metadata": {},
   "source": [
    "### pair Tsuboyama ddG with ESM-IF marginal score"
   ]
  },
  {
   "cell_type": "code",
   "execution_count": 38,
   "id": "88284380-5b80-4ae4-ad0b-db6f22dd9635",
   "metadata": {
    "tags": []
   },
   "outputs": [
    {
     "name": "stdout",
     "output_type": "stream",
     "text": [
      "# processed:  100\n",
      "# processed:  200\n",
      "# processed:  300\n",
      "# processed:  400\n"
     ]
    }
   ],
   "source": [
    "score_marg=[]\n",
    "score_exp_ddg=[]\n",
    "score_spearmanr=[]\n",
    "dir_sel=os.path.abspath('../data/data_train_validation_func_esms/esm_if/Tsuboyama_IF_scores/')\n",
    "for idx,pdb_sel in enumerate(target_pdbs[:]):\n",
    "    if (idx+1)%100 ==0:\n",
    "        print('# processed: ',idx+1)\n",
    "    if len(pdb_sel)==8:\n",
    "        try:\n",
    "            sel_score_marg=[]\n",
    "            sel_exp_ddg=[]\n",
    "            #try:\n",
    "            df_sel=rockin_data_df_filtered[rockin_data_df_filtered['WT_name'] == pdb_sel]\n",
    "            seq_sel=df_sel['aa_seq'].iloc[0]\n",
    "            if len(glob(dir_sel+'/*'+pdb_sel[:-4]+'*marginals*')) ==1:\n",
    "                marg_file=glob(dir_sel+'/*'+pdb_sel[:-4]+'*marginals*')[0]\n",
    "            data_marg=load_data(marg_file,seq_sel)\n",
    "            for idx,row in df_sel.iterrows():\n",
    "                if row['mut_type'] =='wt':\n",
    "                    pass\n",
    "                else:\n",
    "                    if row['ddG_ML'] !='-':\n",
    "                        sel_score_marg.append(data_marg[int(row['mut_type'][1:-1])-1,alphabetAA_L_D[row['mut_type'][-1]]-1])\n",
    "                        sel_exp_ddg.append(float(row['ddG_ML']))\n",
    "\n",
    "            score_spearmanr.append(sp.stats.pearsonr(sel_score_marg,sel_exp_ddg)[0])           \n",
    "            \n",
    "            if sel_exp_ddg !=[]:\n",
    "                score_exp_ddg=score_exp_ddg+sel_exp_ddg            \n",
    "                score_marg=score_marg+sel_score_marg\n",
    "        except:\n",
    "            pass"
   ]
  },
  {
   "cell_type": "code",
   "execution_count": 39,
   "id": "cae432b0-0899-4b2f-a0fb-41c1c56c8ad4",
   "metadata": {},
   "outputs": [],
   "source": [
    "### plot correlation"
   ]
  },
  {
   "cell_type": "code",
   "execution_count": 40,
   "id": "620885fc-9cba-49fc-a3f1-39136791a3ff",
   "metadata": {
    "tags": []
   },
   "outputs": [
    {
     "name": "stdout",
     "output_type": "stream",
     "text": [
      "PearsonRResult(statistic=0.6165961980910912, pvalue=0.0)\n"
     ]
    },
    {
     "data": {
      "image/png": "[encoded data removed]",
      "text/plain": [
       "<Figure size 600x600 with 1 Axes>"
      ]
     },
     "metadata": {},
     "output_type": "display_data"
    }
   ],
   "source": [
    "score_exp_ddg=np.array(score_exp_ddg)\n",
    "score_marg=np.array(score_marg)\n",
    "score_spearmanr=np.array(score_spearmanr)\n",
    "fig,ax1=plt.subplots(1,1,figsize=(6,6))\n",
    "ax1.hexbin(score_exp_ddg, score_marg, gridsize=(100,100), cmap='bone_r',vmin=0,vmax=30)\n",
    "ax1.set_xlabel(r'$\\Delta \\Delta G$ [kcal/mol]')\n",
    "ax1.set_ylabel('IF marginal score')\n",
    "ax1.plot([-2,-2],[-30,10],'--',c='#d55c00')\n",
    "print(sp.stats.pearsonr(score_exp_ddg, score_marg))\n",
    "#plt.savefig('../figures/corr_if_rocklin.pdf')"
   ]
  },
  {
   "cell_type": "markdown",
   "id": "cbfcfd21-199e-4f97-9dbd-97b52a128be5",
   "metadata": {},
   "source": [
    "### selecting optimal threshold using ROC analysis"
   ]
  },
  {
   "cell_type": "code",
   "execution_count": 41,
   "id": "093d53a2-a6af-4b51-a6fb-088b805f99e4",
   "metadata": {
    "tags": []
   },
   "outputs": [],
   "source": [
    "X_rock_all=np.array(score_marg)"
   ]
  },
  {
   "cell_type": "code",
   "execution_count": 42,
   "id": "ddf224cc-868e-4278-9816-a9813c6a9da1",
   "metadata": {
    "tags": []
   },
   "outputs": [],
   "source": [
    "Y_rock_all=np.array([0 if i > -2.5 else 1 for i in score_exp_ddg])"
   ]
  },
  {
   "cell_type": "code",
   "execution_count": 43,
   "id": "2eb65e77-5a64-4c53-824d-074506dbeef7",
   "metadata": {
    "tags": []
   },
   "outputs": [],
   "source": [
    "kfold=RepeatedStratifiedKFold(n_splits=4,n_repeats=1,random_state=1)"
   ]
  },
  {
   "cell_type": "code",
   "execution_count": 44,
   "id": "4804c5e3-ee8c-4eb6-89c8-30e6f84b347d",
   "metadata": {
    "tags": []
   },
   "outputs": [
    {
     "name": "stdout",
     "output_type": "stream",
     "text": [
      "0.8663449896973413 -7.537968635559082\n",
      "0.8666293936455443 -7.537968635559082\n",
      "0.8688548244856112 -7.524503231048584\n",
      "0.8670700655136347 -7.542448997497559\n"
     ]
    }
   ],
   "source": [
    "for train_index, test_index in kfold.split(X_rock_all, Y_rock_all):\n",
    "\n",
    "    X_train, X_test = X_rock_all[train_index], X_rock_all[test_index]\n",
    "    Y_train, Y_test = Y_rock_all[train_index], Y_rock_all[test_index]\n",
    "    \n",
    "    tpr,fpr,thresholds = roc_curve(Y_train,X_train)\n",
    "    \n",
    "    ##  Youden’s J statistic   \n",
    "    J = tpr - fpr\n",
    "    \n",
    "    print(auc(fpr,tpr),thresholds[np.argmax(J)])\n",
    "    \n",
    "    tpr,fpr,thresholds = roc_curve(Y_test,X_test)\n",
    "    \n",
    "    "
   ]
  },
  {
   "cell_type": "code",
   "execution_count": 45,
   "id": "1d6e03fb-1aa6-455b-9d06-87b9dba93e33",
   "metadata": {
    "tags": []
   },
   "outputs": [],
   "source": [
    "tpr,fpr,thresholds = roc_curve(Y_rock_all,X_rock_all)\n",
    "##  Youden’s J statistic    \n",
    "J = tpr - fpr"
   ]
  },
  {
   "cell_type": "code",
   "execution_count": 46,
   "id": "cec143e0-cb3b-41f1-a40c-9455249dd381",
   "metadata": {
    "tags": []
   },
   "outputs": [
    {
     "data": {
      "text/plain": [
       "Text(0, 0.5, 'True Positive Rate')"
      ]
     },
     "execution_count": 46,
     "metadata": {},
     "output_type": "execute_result"
    },
    {
     "data": {
      "image/png": "[encoded data removed]",
      "text/plain": [
       "<Figure size 600x600 with 1 Axes>"
      ]
     },
     "metadata": {},
     "output_type": "display_data"
    }
   ],
   "source": [
    "fig,ax=plt.subplots(1,1,figsize=(6,6))\n",
    "\n",
    "ax.plot(\n",
    "    fpr,\n",
    "    tpr,\n",
    "    color=\"#009e74\",\n",
    "    lw=2,\n",
    ")\n",
    "ax.plot([0, 1], [0, 1], color=\"gray\", lw=2, linestyle=\"--\")\n",
    "ax.scatter(fpr[np.argmax(J)],tpr[np.argmax(J)],s=100,edgecolor='k',facecolor='#f0e422',zorder=100)\n",
    "ax.set_xlim([0.0, 1.0])\n",
    "ax.set_ylim([0.0, 1.0])\n",
    "ax.set_xlabel(\"False Positive Rate\")\n",
    "ax.set_ylabel(\"True Positive Rate\")\n",
    "\n",
    "#plt.savefig('../figures/auc_esm1b_esmif.pdf')"
   ]
  },
  {
   "cell_type": "markdown",
   "id": "8b79114f-b64f-49ae-bdd5-d3f064d8989d",
   "metadata": {
    "tags": []
   },
   "source": [
    "## Validation of FunC-ESMs\n",
    "\n",
    "### NUDT15"
   ]
  },
  {
   "cell_type": "code",
   "execution_count": 47,
   "id": "853a583b-080d-48f9-8162-a3f4fe2585e0",
   "metadata": {
    "tags": []
   },
   "outputs": [],
   "source": [
    "NUDT15_WT_sequence=\"MTASAQPRGRRPGVGVGVVVTSCKHPRCVLLGKRKGSVGAGSFQLPGGHLEFGETWEECAQRETWEEAALHLKNVHFASVVNSFIEKENYHYVTILMKGEVDVTHDSEPKNVEPEKNESWEWVPWEELPPLDQLFWGLRCLKEQGYDPFKEDLNHLVGYKGNHL\""
   ]
  },
  {
   "cell_type": "markdown",
   "id": "60863446-841e-46f9-bbb3-631c5929e175",
   "metadata": {
    "tags": [],
    "toc-hr-collapsed": true
   },
   "source": [
    "#### Load experimental data"
   ]
  },
  {
   "cell_type": "code",
   "execution_count": 48,
   "id": "caa390e5-57db-46a8-b9ef-e9185771502b",
   "metadata": {
    "tags": []
   },
   "outputs": [],
   "source": [
    "df=pd.read_excel('../data/data_train_validation_func_esms/exp_score/NUDT15_Suiter_2020.xlsx', index_col=0,header=2)\n",
    "mutation_load=np.array(df.iloc[:,2])\n",
    "mutation_position=np.array(df.iloc[:,3])\n",
    "score_funct=np.array(df.iloc[:,7])\n",
    "score_abund=np.array(df.iloc[:,5])"
   ]
  },
  {
   "cell_type": "code",
   "execution_count": 49,
   "id": "15b081b0-cd59-4411-b26f-49ea18f092f6",
   "metadata": {
    "tags": []
   },
   "outputs": [],
   "source": [
    "NUDT15_abundance=np.empty((len(NUDT15_WT_sequence),20),dtype=float)\n",
    "NUDT15_abundance[:]=np.nan"
   ]
  },
  {
   "cell_type": "code",
   "execution_count": 50,
   "id": "f88a7f31-5cdf-405a-b4e5-1c45fbee8bf0",
   "metadata": {
    "tags": []
   },
   "outputs": [],
   "source": [
    "for i in range(len(mutation_load)):\n",
    "    if score_abund[i] != ' NA':\n",
    "        NUDT15_abundance[int(mutation_position[i])-1, alphabetAA_L_D[mutation_load[i][len(mutation_load[i])-1]]-1]=float(score_abund[i])"
   ]
  },
  {
   "cell_type": "code",
   "execution_count": 51,
   "id": "d150fa45-0b55-4ce5-8c80-024e94d661a8",
   "metadata": {
    "tags": []
   },
   "outputs": [],
   "source": [
    "NUDT15_function=np.empty((len(NUDT15_WT_sequence),20),dtype=float)\n",
    "NUDT15_function[:]=np.nan"
   ]
  },
  {
   "cell_type": "code",
   "execution_count": 52,
   "id": "4d06c44e-aa55-483d-9c6d-07d61ef18c4a",
   "metadata": {
    "tags": []
   },
   "outputs": [],
   "source": [
    "for i in range(len(mutation_load)):\n",
    "    if score_funct[i] != ' NA':\n",
    "        NUDT15_function[int(mutation_position[i])-1, alphabetAA_L_D[mutation_load[i][len(mutation_load[i])-1]]-1]=float(score_funct[i])"
   ]
  },
  {
   "cell_type": "markdown",
   "id": "c1e13eb9-4320-4bfe-8c89-ec72b7863fba",
   "metadata": {
    "tags": [],
    "toc-hr-collapsed": true
   },
   "source": [
    "#### Load computational data"
   ]
  },
  {
   "cell_type": "code",
   "execution_count": 53,
   "id": "f9761476-be89-46d5-a873-0b75f103c5d4",
   "metadata": {
    "tags": []
   },
   "outputs": [],
   "source": [
    "NUDT15_ESM_1b_scores=load_data('../data/data_train_validation_func_esms/esm_1b/prism_Q9NV35_ESM.txt',NUDT15_WT_sequence)"
   ]
  },
  {
   "cell_type": "code",
   "execution_count": 54,
   "id": "19cff336-2b6a-4406-8b2e-b2e2b3935a46",
   "metadata": {
    "tags": []
   },
   "outputs": [],
   "source": [
    "NUDT15_IF=load_data('../data/data_train_validation_func_esms/esm_if/prism_ESM-IF_Q9NV35_marginals.txt',NUDT15_WT_sequence)"
   ]
  },
  {
   "cell_type": "markdown",
   "id": "27cebd12-bcfc-4a1b-a631-b97544f1b4e6",
   "metadata": {},
   "source": [
    "### CYP2C9"
   ]
  },
  {
   "cell_type": "code",
   "execution_count": 55,
   "id": "a3aac07a-433f-4679-9719-076a78d1bb5e",
   "metadata": {
    "tags": []
   },
   "outputs": [],
   "source": [
    "CYP2C9_WT_sequence=\"MDSLVVLVLCLSCLLLLSLWRQSSGRGKLPPGPTPLPVIGNILQIGIKDISKSLTNLSKVYGPVFTLYFGLKPIVVLHGYEAVKEALIDLGEEFSGRGIFPLAERANRGFGIVFSNGKKWKEIRRFSLMTLRNFGMGKRSIEDRVQEEARCLVEELRKTKASPCDPTFILGCAPCNVICSIIFHKRFDYKDQQFLNLMEKLNENIKILSSPWIQICNNFSPIIDYFPGTHNKLLKNVAFMKSYILEKVKEHQESMDMNNPQDFIDCFLMKMEKEKHNQPSEFTIESLENTAVDLFGAGTETTSTTLRYALLLLLKHPEVTAKVQEEIERVIGRNRSPCMQDRSHMPYTDAVVHEVQRYIDLLPTSLPHAVTCDIKFRNYLIPKGTTILISLTSVLHDNKEFPNPEMFDPHHFLDEGGNFKKSKYFMPFSAGKRICVGEALAGMELFLFLTSILQNFNLKSLVDPKNLDTTPVVNGFASVPPFYQLCFIPV\""
   ]
  },
  {
   "cell_type": "markdown",
   "id": "b5ab7b63-fb47-4c03-8d0a-fb641b21576f",
   "metadata": {
    "tags": [],
    "toc-hr-collapsed": true
   },
   "source": [
    "#### Load experimental data"
   ]
  },
  {
   "cell_type": "code",
   "execution_count": 56,
   "id": "be54e816-c8ff-4e2b-b9b5-fd82bbe67127",
   "metadata": {
    "tags": []
   },
   "outputs": [],
   "source": [
    "df=pd.read_csv('../data/data_train_validation_func_esms/exp_score/CYP2C9_Amorosi_2021_AMJhumGenet.csv',sep=',')\n",
    "mutation_load=np.array(df.iloc[:,0])\n",
    "score_funct=np.array(df.iloc[:,6])\n",
    "score_abund=np.array(df.iloc[:,17])"
   ]
  },
  {
   "cell_type": "code",
   "execution_count": 57,
   "id": "d79f9e2b-2222-41b0-9218-a5008c13617a",
   "metadata": {
    "tags": []
   },
   "outputs": [],
   "source": [
    "CYP2C9_abundance=np.empty((len(CYP2C9_WT_sequence),20),dtype=float)\n",
    "CYP2C9_abundance[:]=np.nan"
   ]
  },
  {
   "cell_type": "code",
   "execution_count": 58,
   "id": "3f108f59-8274-4abc-982e-0c66a4af20a6",
   "metadata": {
    "tags": []
   },
   "outputs": [],
   "source": [
    "for i in range(len(mutation_load)):\n",
    "    if score_abund[i] != 'NaN' and (mutation_load[i][-1:])!='~' and mutation_load[i][-1:]!='*' and mutation_load[i][-1:]!='X' and mutation_load[i] !=\"WT\":\n",
    "        CYP2C9_abundance[int(mutation_load[i][1:-1])-1, alphabetAA_L_D[mutation_load[i][-1:]]-1]=float(score_abund[i])"
   ]
  },
  {
   "cell_type": "code",
   "execution_count": 59,
   "id": "2f5f570e-b924-4524-9327-a2b8254391fe",
   "metadata": {
    "tags": []
   },
   "outputs": [],
   "source": [
    "CYP2C9_function=np.empty((len(CYP2C9_WT_sequence),20),dtype=float)\n",
    "CYP2C9_function[:]=np.nan"
   ]
  },
  {
   "cell_type": "code",
   "execution_count": 60,
   "id": "438c841b-0fd6-4c1e-a132-2ae329446f6b",
   "metadata": {
    "tags": []
   },
   "outputs": [],
   "source": [
    "for i in range(len(mutation_load)):\n",
    "    if score_funct[i] != 'NaN' and (mutation_load[i][-1:])!='~' and mutation_load[i][-1:]!='*' and mutation_load[i][-1:]!='X' and mutation_load[i] !=\"WT\":\n",
    "        CYP2C9_function[int(mutation_load[i][1:-1])-1, alphabetAA_L_D[mutation_load[i][-1:]]-1]=float(score_funct[i])"
   ]
  },
  {
   "cell_type": "markdown",
   "id": "64671939-5e1a-4b98-9cda-cd4ea34a4186",
   "metadata": {
    "tags": []
   },
   "source": [
    "#### Load computational data\n"
   ]
  },
  {
   "cell_type": "code",
   "execution_count": 61,
   "id": "f8a01f3d-974f-4b82-8cab-9366e8149b4e",
   "metadata": {
    "tags": []
   },
   "outputs": [],
   "source": [
    "CYP2C9_ESM_1b_scores=load_data('../data/data_train_validation_func_esms/esm_1b/prism_P11712_ESM.txt',CYP2C9_WT_sequence)"
   ]
  },
  {
   "cell_type": "code",
   "execution_count": 62,
   "id": "749943ce-766b-459e-b8c5-e86608f5254d",
   "metadata": {
    "tags": []
   },
   "outputs": [],
   "source": [
    "CYP2C9_IF=load_data('../data/data_train_validation_func_esms/esm_if/prism_ESM-IF_P11712_marginals.txt',CYP2C9_WT_sequence)"
   ]
  },
  {
   "cell_type": "markdown",
   "id": "93b4e5e2-9a49-4119-8ea4-85dc9ad557be",
   "metadata": {},
   "source": [
    "### PTEN"
   ]
  },
  {
   "cell_type": "code",
   "execution_count": 63,
   "id": "4ca2f176-eae0-4a00-a20e-afdead43bcf6",
   "metadata": {
    "tags": []
   },
   "outputs": [],
   "source": [
    "PTEN_WT_sequence=\"MTAIIKEIVSRNKRRYQEDGFDLDLTYIYPNIIAMGFPAERLEGVYRNNIDDVVRFLDSKHKNHYKIYNLCAERHYDTAKFNCRVAQYPFEDHNPPQLELIKPFCEDLDQWLSEDDNHVAAIHCKAGKGRTGVMICAYLLHRGKFLKAQEALDFYGEVRTRDKKGVTIPSQRRYVYYYSYLLKNHLDYRPVALLFHKMMFETIPMFSGGTCNPQFVVCQLKVKIYSSNSGPTRREDKFMYFEFPQPLPVCGDIKVEFFHKQNKMLKKDKMFHFWVNTFFIPGPEETSEKVENGSLCDQEIDSICSIERADNDKEYLVLTLTKNDLDKANKDKANRYFSPNFKVKLYFTKTVEEPSNPEASSSTSVTPDVSDNEPDHYRYSDTTDSDPENEPFDEDQHTQITKV\""
   ]
  },
  {
   "cell_type": "markdown",
   "id": "301cad5c-9f7e-43c0-a957-a965ec9e93c5",
   "metadata": {},
   "source": [
    "#### Load experimental data"
   ]
  },
  {
   "cell_type": "code",
   "execution_count": 64,
   "id": "c93f69cb-f1d5-4dca-b8f8-31add2dd34c3",
   "metadata": {
    "tags": []
   },
   "outputs": [],
   "source": [
    "df=pd.read_csv('../data/data_train_validation_func_esms/exp_score/PTEN_VAMP_Matreyek_2018_NatGenet.csv',sep=',')\n",
    "mutation_load=np.array(df.iloc[:,2],dtype=str)\n",
    "score_abund=np.array(df.iloc[:,3])"
   ]
  },
  {
   "cell_type": "code",
   "execution_count": 65,
   "id": "636c4945-81e2-4cdc-b30f-1021bf174996",
   "metadata": {
    "tags": []
   },
   "outputs": [],
   "source": [
    "PTEN_abundance=np.empty((len(PTEN_WT_sequence),20),dtype=float)\n",
    "PTEN_abundance[:]=np.nan"
   ]
  },
  {
   "cell_type": "code",
   "execution_count": 66,
   "id": "5cd1d7f6-3dd1-4778-b0d6-23d83a2ba8a6",
   "metadata": {
    "tags": []
   },
   "outputs": [],
   "source": [
    "for i in range(len(mutation_load)):\n",
    "    if score_abund[i] != 'NaN' and mutation_load[i][-1:]!='=' and alphabetAA_3L_1L[mutation_load[i][-3:]]!='*':  \n",
    "        PTEN_abundance[int(mutation_load[i][5:-3])-1, alphabetAA_L_D[alphabetAA_3L_1L[mutation_load[i][-3:]]]-1]=float(score_abund[i])"
   ]
  },
  {
   "cell_type": "code",
   "execution_count": 67,
   "id": "9cb2f490-f33b-45c6-9e47-3d836050fa4a",
   "metadata": {
    "tags": []
   },
   "outputs": [],
   "source": [
    "df = pd.read_excel (r'../data/data_train_validation_func_esms/exp_score/PTEN_MAVE_Mighell_2018_AMJHumGenet.xlsx', sheet_name='scores',header=1)\n",
    "mutation_load=np.array(df.iloc[:,0])\n",
    "score_funct=np.array(df.iloc[:,6])"
   ]
  },
  {
   "cell_type": "code",
   "execution_count": 68,
   "id": "43e0b315-c8f3-4efe-bbac-1ff47117a03a",
   "metadata": {
    "tags": []
   },
   "outputs": [],
   "source": [
    "PTEN_function=np.empty((len(PTEN_WT_sequence),20),dtype=float)\n",
    "PTEN_function[:]=np.nan"
   ]
  },
  {
   "cell_type": "code",
   "execution_count": 69,
   "id": "630b79b0-85ad-432d-b147-9b9870d33e3b",
   "metadata": {
    "tags": []
   },
   "outputs": [],
   "source": [
    "for i in range(len(mutation_load)):\n",
    "    if score_funct[i] != 'NaN' and (mutation_load[i][-1:])!='~' and mutation_load[i][-1:]!='*':\n",
    "        PTEN_function[int(mutation_load[i][1:-1])-1, alphabetAA_L_D[mutation_load[i][-1:]]-1]=float(score_funct[i])"
   ]
  },
  {
   "cell_type": "markdown",
   "id": "8b9ecbe4-5b42-4147-bcdf-00c8681d6c91",
   "metadata": {
    "tags": []
   },
   "source": [
    "#### Load computational data\n"
   ]
  },
  {
   "cell_type": "code",
   "execution_count": 70,
   "id": "a67459eb-e147-406b-ada2-74c1b95c2718",
   "metadata": {
    "tags": []
   },
   "outputs": [],
   "source": [
    "PTEN_ESM_1b_scores=load_data('../data/data_train_validation_func_esms/esm_1b/prism_P60484_ESM.txt',PTEN_WT_sequence)"
   ]
  },
  {
   "cell_type": "code",
   "execution_count": 71,
   "id": "c4c876ed-6158-4920-bd07-537c95b7b855",
   "metadata": {
    "tags": []
   },
   "outputs": [],
   "source": [
    "PTEN_IF=load_data('../data/data_train_validation_func_esms/esm_if/prism_ESM-IF_P60484_marginals.txt',PTEN_WT_sequence)"
   ]
  },
  {
   "cell_type": "markdown",
   "id": "dbc43153-4d48-4e51-8507-96eaf3557794",
   "metadata": {},
   "source": [
    "### SH3"
   ]
  },
  {
   "cell_type": "code",
   "execution_count": 72,
   "id": "f9cc1f2e-f3ee-4676-a2c3-b03ce7f531ad",
   "metadata": {
    "tags": []
   },
   "outputs": [],
   "source": [
    "P62993_WT_sequence=\"MEAIAKYDFKATADDELSFKRGDILKVLNEECDQNWYKAELNGKDGFIPKNYIEMKPHPWFFGKIPRAKAEEMLSKQRHDGAFLIRESESAPGDFSLSVKFGNDVQHFKVLRDGAGKYFLWVVKFNSLNELVDYHRSTSVSRNQQIFLRDIEQVPQQPTYVQALFDFDPQEDGELGFRRGDFIHVMDNSDPNWWKGACHGQTGMFPRNYVTPVNRNV\"\n",
    "P62993_WT_rosetta =\"MEAIAKYDFKATADDELSFKRGDILKVLNEECDQNWYKAELNGKDGFIPKNYIEMKPHPWFFGKIPRAKAEEMLSKQRHDGAFLIRESESAPGDFSLSVKFGNDVQHFKVLRDGAGKYFLWVVKFNSLNELVDYHRSTSVSRNQQIFLRDIEQVPQQPTYVQALFDFDPQEDGELGFRRGDFIHVMDNSDPNWWKGACHGQTGMFPRNYVTPVNRNV\"\n",
    "P62993_WT_exp     =\"--------------------------------------------------------------------------------------------------------------------------------------------------------------TYVQALFDFDPQEDGELGFRRGDFIHVMDNSDPNWWKGACHGQTGMFPRNYVTPVN---\""
   ]
  },
  {
   "cell_type": "code",
   "execution_count": 73,
   "id": "527e089e-277a-4ba5-9e93-4875c3948ed0",
   "metadata": {
    "tags": []
   },
   "outputs": [],
   "source": [
    "P62993_exp_starting_pos=158"
   ]
  },
  {
   "cell_type": "markdown",
   "id": "b25d53f0-6b21-4a41-a233-bc7a3668b023",
   "metadata": {},
   "source": [
    "#### Load experimental data"
   ]
  },
  {
   "cell_type": "markdown",
   "id": "0c17cf0c-22d9-4241-ad5f-5f0e0fb9c86e",
   "metadata": {},
   "source": [
    "##### table s6"
   ]
  },
  {
   "cell_type": "code",
   "execution_count": 74,
   "id": "ab4bc69b-5a4a-4ef6-a099-0e3e9055919b",
   "metadata": {
    "tags": []
   },
   "outputs": [],
   "source": [
    "SI_exp_df=pd.read_csv('../data/data_train_validation_func_esms/exp_score/SH3_Faure_2022_Nature_SI6.txt',sep='\\t')"
   ]
  },
  {
   "cell_type": "code",
   "execution_count": 75,
   "id": "aa213d96-53d5-46ec-908e-a7fd649120a8",
   "metadata": {
    "tags": []
   },
   "outputs": [],
   "source": [
    "for i,n in SI_exp_df.query('protein == \"GRB2-SH3\" and WT == True').iterrows():\n",
    "    P62993_WT_frag_exp=n['aa_seq'][:-1]"
   ]
  },
  {
   "cell_type": "code",
   "execution_count": 76,
   "id": "cb5f0c42-8542-4403-ba92-8a0142921eb5",
   "metadata": {
    "tags": []
   },
   "outputs": [],
   "source": [
    "P62993_binding=np.empty((len(P62993_WT_sequence),20),dtype=float)\n",
    "P62993_binding[:]=np.nan"
   ]
  },
  {
   "cell_type": "code",
   "execution_count": 77,
   "id": "3e0da1d1-5dab-4655-88b1-75c77b33008c",
   "metadata": {
    "tags": []
   },
   "outputs": [],
   "source": [
    "P62993_abundance=np.empty((len(P62993_WT_sequence),20),dtype=float)\n",
    "P62993_abundance[:]=np.nan"
   ]
  },
  {
   "cell_type": "code",
   "execution_count": 78,
   "id": "b534a57b-9553-462e-b964-935fb73c9faf",
   "metadata": {
    "tags": []
   },
   "outputs": [],
   "source": [
    "for i,n in SI_exp_df.query('protein == \"GRB2-SH3\" and Nham_aa==1').iterrows():\n",
    "    count_pos=0\n",
    "    for l in n['aa_seq'][:-1]:\n",
    "        if l == P62993_WT_frag_exp[count_pos]:\n",
    "            count_pos+=1\n",
    "        else:\n",
    "            if n['pca_type'] == 'Abundance':\n",
    "                P62993_abundance[count_pos+P62993_exp_starting_pos,alphabetAA_L_D[l]-1]=float(n['fitness'])\n",
    "                break\n",
    "            if n['pca_type'] == 'Binding':\n",
    "                P62993_binding[count_pos+P62993_exp_starting_pos,alphabetAA_L_D[l]-1]=n['fitness']\n",
    "                break"
   ]
  },
  {
   "cell_type": "code",
   "execution_count": 79,
   "id": "ca18c78f-1e28-4204-b502-ab199c5e8579",
   "metadata": {
    "tags": []
   },
   "outputs": [],
   "source": [
    "P62993_abundance_median=np.nanmedian(P62993_abundance,axis=1)\n",
    "P62993_binding_median=np.nanmedian(P62993_binding,axis=1)"
   ]
  },
  {
   "cell_type": "markdown",
   "id": "27e1169b-0315-45bb-ba0a-86c9608443a5",
   "metadata": {
    "tags": []
   },
   "source": [
    "##### table S8"
   ]
  },
  {
   "cell_type": "code",
   "execution_count": 80,
   "id": "811d05a0-2084-4eb0-8bc5-0eb1de4c65ff",
   "metadata": {
    "tags": []
   },
   "outputs": [],
   "source": [
    "SI_pred_df=pd.read_excel('../data/data_train_validation_func_esms/exp_score/SH3_Faure_2022_Nature_SI8.xlsx')"
   ]
  },
  {
   "cell_type": "code",
   "execution_count": 81,
   "id": "e7c2b8d1-82e7-4d7b-9102-36a0b6dc27a0",
   "metadata": {
    "tags": []
   },
   "outputs": [],
   "source": [
    "P62993_binding_ddg=np.empty((len(P62993_WT_sequence),20),dtype=float)\n",
    "P62993_binding_ddg[:]=np.nan\n"
   ]
  },
  {
   "cell_type": "code",
   "execution_count": 82,
   "id": "2b51e6db-3675-4873-bcac-9b3dde7ff35e",
   "metadata": {
    "tags": []
   },
   "outputs": [],
   "source": [
    "P62993_abundance_ddg=np.empty((len(P62993_WT_sequence),20),dtype=float)\n",
    "P62993_abundance_ddg[:]=np.nan\n"
   ]
  },
  {
   "cell_type": "code",
   "execution_count": 83,
   "id": "f5a4d07b-b38b-44fe-9a29-816f36205e23",
   "metadata": {
    "tags": []
   },
   "outputs": [],
   "source": [
    "for i,n in SI_pred_df.query('protein == \"GRB2-SH3\" and mut_order==1').iterrows():\n",
    "    P62993_binding_ddg[int(n['id_ref'][1:-1])+P62993_exp_starting_pos-1,alphabetAA_L_D[n['id_ref'][-1]]-1]=float(n['b_ddg_pred'])\n",
    "    P62993_abundance_ddg[int(n['id_ref'][1:-1])+P62993_exp_starting_pos-1,alphabetAA_L_D[n['id_ref'][-1]]-1]=float(n['f_ddg_pred'])\n"
   ]
  },
  {
   "cell_type": "code",
   "execution_count": 84,
   "id": "54dfddfb-6399-4772-8400-2f38d6408e16",
   "metadata": {
    "tags": []
   },
   "outputs": [],
   "source": [
    "P62993_abundance_ddg_norm=normalize_cutoff(P62993_abundance_ddg,-1,3)\n",
    "P62993_binding_ddg_norm=normalize_cutoff(P62993_binding_ddg,-1,3)"
   ]
  },
  {
   "cell_type": "code",
   "execution_count": 85,
   "id": "66d8bf9d-dc84-43a4-b4ab-e665da645f3f",
   "metadata": {
    "tags": []
   },
   "outputs": [],
   "source": [
    "P62993_abundance_ddg_median=np.nanmedian(P62993_abundance_ddg,axis=1)\n",
    "P62993_binding_ddg_median=np.nanmedian(P62993_binding_ddg,axis=1)"
   ]
  },
  {
   "cell_type": "code",
   "execution_count": 86,
   "id": "ab7d405b-7d10-4e3b-ba90-97e3972bbb0c",
   "metadata": {
    "tags": []
   },
   "outputs": [],
   "source": [
    "P62993_exp_variant_label=np.empty((len(P62993_WT_sequence),20),dtype=float)\n",
    "P62993_exp_variant_label[:]=np.nan"
   ]
  },
  {
   "cell_type": "code",
   "execution_count": 87,
   "id": "f11ed1eb-b951-436a-8f91-650bb54c2fc5",
   "metadata": {
    "tags": []
   },
   "outputs": [],
   "source": [
    "# Assign the color to the variant based on its position in the 2d combined histogram\n",
    "\n",
    "#wt like = 0\n",
    "#sbi = 1\n",
    "#total loss = 2\n",
    "\n",
    "y_threshold=1\n",
    "x_threshold=1\n",
    "\n",
    "for i in range(P62993_exp_variant_label.shape[0]):\n",
    "    for j in range(P62993_exp_variant_label.shape[1]):\n",
    "        if np.isnan(P62993_binding_ddg_norm[i,j]) or np.isnan(P62993_abundance_ddg_norm[i,j]):\n",
    "            pass\n",
    "        else:\n",
    "            if P62993_binding_ddg_norm[i,j] <= y_threshold:\n",
    "                if P62993_abundance_ddg_norm[i,j] <= x_threshold:\n",
    "                    P62993_exp_variant_label[i,j]=0\n",
    "                else:\n",
    "                    P62993_exp_variant_label[i,j]=2\n",
    "            else:\n",
    "                if P62993_abundance_ddg_norm[i,j] <= x_threshold:\n",
    "                    P62993_exp_variant_label[i,j]=1\n",
    "                else:\n",
    "                    P62993_exp_variant_label[i,j]=2"
   ]
  },
  {
   "cell_type": "code",
   "execution_count": 88,
   "id": "e36204d2-a3f7-40b8-8420-ab460b9760a5",
   "metadata": {
    "tags": []
   },
   "outputs": [],
   "source": [
    "P62993_exp_residue_label=np.empty((len(P62993_WT_sequence),1),dtype=float)\n",
    "P62993_exp_residue_label[:]=np.nan"
   ]
  },
  {
   "cell_type": "code",
   "execution_count": 89,
   "id": "2dcb0a9f-52b4-4182-9ef0-4b5e0a1751ac",
   "metadata": {
    "tags": []
   },
   "outputs": [],
   "source": [
    "# Assign the color to the variant based on its position in the 2d combined histogram\n",
    "\n",
    "#wt like = 0\n",
    "#sbi = 1\n",
    "#total loss = 2\n",
    "\n",
    "y_threshold=1\n",
    "x_threshold=1\n",
    "\n",
    "for i in range(P62993_exp_residue_label.shape[0]):\n",
    "        if np.isnan(P62993_binding_ddg_median[i]) or np.isnan(P62993_abundance_ddg_median[i]):\n",
    "            pass\n",
    "        else:\n",
    "            if P62993_binding_ddg_median[i] <= y_threshold:\n",
    "                if P62993_abundance_ddg_median[i] <= x_threshold:\n",
    "                    P62993_exp_residue_label[i]=0\n",
    "                else:\n",
    "                    P62993_exp_residue_label[i]=2\n",
    "            else:\n",
    "                if P62993_abundance_ddg_median[i] <= x_threshold:\n",
    "                    P62993_exp_residue_label[i]=1\n",
    "                else:\n",
    "                    P62993_exp_residue_label[i]=2"
   ]
  },
  {
   "cell_type": "markdown",
   "id": "8090ed3b-b2eb-4ed0-8c84-da4a581a6e0f",
   "metadata": {
    "tags": []
   },
   "source": [
    "#### Computational Data"
   ]
  },
  {
   "cell_type": "code",
   "execution_count": 90,
   "id": "8c61f3ea-529b-456c-89cd-09a67b5c2c6c",
   "metadata": {
    "tags": []
   },
   "outputs": [],
   "source": [
    "P62993_ESM1b_marginals=load_data('../data/data_train_validation_func_esms/esm_1b/prism_P62993_ESM.txt',P62993_WT_sequence)        "
   ]
  },
  {
   "cell_type": "code",
   "execution_count": 91,
   "id": "97469a77-cd41-41c8-86ba-e73c3211e5ce",
   "metadata": {
    "tags": []
   },
   "outputs": [],
   "source": [
    "P62993_IF=load_data('../data/data_train_validation_func_esms/esm_if/prism_ESM-IF_P62993_AF_marginals.txt',P62993_WT_sequence)"
   ]
  },
  {
   "cell_type": "markdown",
   "id": "a5a62419-2017-4d65-919c-3c44a7eec1d0",
   "metadata": {},
   "source": [
    "### GCK"
   ]
  },
  {
   "cell_type": "code",
   "execution_count": 92,
   "id": "40d578fb-2744-4432-afc1-b63d70c51b63",
   "metadata": {
    "tags": []
   },
   "outputs": [],
   "source": [
    "consensus_seque='MADDAARRLAALREEVEEILKEFTLSDEKLRKIVDRFLEEMEKGLAKETHDGSSLKMLPTYVTSLPTGTEKGTFLALDLGGTNFRVLLVELKGGGDGKFEVEMEQKKYAIPEELMTGTGEELFDFIADCLADFLEEHGLKGEKLPLGFTFSFPVEQTSLDSGILIRWTKGFDISGVEGKDVVQLLQEALDRRGDLPVDVVALVNDTVGTLMACAYKDPDCEIGLILGTGTNACYMEKLSNIPKLEGDSGEMIINTEWGAFGDDGCLDFPRTEYDRELDRESLNPGKQLFEKMISGMYLGEIVRLVLLDLAKEGLLFGGQSSEKLNTPYSFDTKYLSEIESDSSDLEETREILEELGLEPSLEDRKIVRYVCELVSTRAARLAAAGIAAILKKMGRLRGLDELRVTVGVDGSLYEKYPGFRERLREALRELLPEKKVKLVLAEDGSGVGAALIAAVASRLAEQMEQ'\n",
    "GCK_SD_cons_seq='---------------IEEILEEFTLSDEQLREIVDRFLEEMEKGLAKEGHPESSLKMLPTYVRSLPTGTEKGDFLALDLGGTNFRVLLVKLGGDGKGQGKVEMEQKKYRIPEELMTGTGEELFDFIADCLADFLEEHGLKDKKLPLGFTFSFPCEQTSLDSGILIRWTKGFKASGVEGKDVVQLLQEAIKRRGLFDVDVVALVNDTVGTLMACAY----------------------------------------------------------------------------------------------------------------------------------------------------------------------------------------------------------------------------------------------------------'\n",
    "GCK_SD_WT_seque='---------------VEQILSEFRLKEEDLRKVMHRMQKEMDRGLKLETHEEASVKMLPTYVRSTPEGSEVGDFLSLDLGGTNFRVMLVKVGEGEEGQWKVKTKHQMYSIPEDAMTGTAEMLFDYISECISDFLDKHQMKHKKLPLGFTFSFPVRHEDIDKGILLNWTKGFKASGAEGNNVVGLLRDAIKRRGDFEMDVVAMVNDTVATMISCYY----------------------------------------------------------------------------------------------------------------------------------------------------------------------------------------------------------------------------------------------------------'\n",
    "GCK_WT_sequence=\"MLDDRARMEAAKKEKVEQILAEFQLQEEDLKKVMRRMQKEMDRGLRLETHEEASVKMLPTYVRSTPEGSEVGDFLSLDLGGTNFRVMLVKVGEGEEGQWSVKTKHQMYSIPEDAMTGTAEMLFDYISECISDFLDKHQMKHKKLPLGFTFSFPVRHEDIDKGILLNWTKGFKASGAEGNNVVGLLRDAIKRRGDFEMDVVAMVNDTVATMISCYYEDHQCEVGMIVGTGCNACYMEEMQNVELVEGDEGRMCVNTEWGAFGDSGELDEFLLEYDRLVDESSANPGQQLYEKLIGGKYMGELVRLVLLRLVDENLLFHGEASEQLRTRGAFETRFVSQVESDTGDRKQIYNILSTLGLRPSTTDCDIVRRACESVSTRAAHMCSAGLAGVINRMRESRSEDVMRITVGVDGSVYKLHPSFKERFHASVRRLTPSCEITFIESEEGSGRGAALVSAVACKKACMLGQ\"\n",
    "GCK_WT_ros_seq1='--------------MVEQILAEFQLQEEDLKKVMRRMQKEMDRGLRLETHEEASVKMLPTYVRSTPEGSEVGDFLSLDLGGTNFRVMLVKVGEGEEGQWSVKTKHQMYSIPEDAMTGTAEMLFDYISECISDFLDKHQMKHKKLPLGFTFSFPVRH-----------------------NVVGLLRDAIKRRGDFEMDVVAMVNDTVATMISCYYEDHQCEVGMIVGTGCNACYMEEMQNVELVEGDEGRMCVNTEWGAFGDSGELDEFLLEYDRLVDESSANPGQQLYEKLIGGKYMGELVRLVLLRLVDENLLFHGEASEQLRTRGAFETRFVSQVESDTGDRKQIYNILSTLGLRPSTTDCDIVRRACESVSTRAAHMCSAGLAGVINRMRESRSEDVMRITVGVDGSVYKLHPSFKERFHASVRRLTPSCEITFIESEEGSGRGAALVSAVACKKAC----'\n",
    "GCK_WT_ros_seq2='-------------TLVEQILAEFQLQEEDLKKVMRRMQKEMDRGLRLETHEEASVKMLPTYVRSTPEGSEVGDFLSLDLGGTNFRVMLVKVGEGEEGQWSVKTKHQMYSIPEDAMTGTAEMLFDYISECISDFLDKHQMKHKKLPLGFTFSFPVRHEDIDKGILLNWTKGFKASGAEGNNVVGLLRDAIKRRGDFEMDVVAMVNDTVATMISCYYEDHQCEVGMIVGTGCNACYMEEMQNVELVEGDEGRMCVNTEWGAFGDSGELDEFLLEYDRLVDESSANPGQQLYEKLIGGKYMGELVRLVLLRLVDENLLFHGEASEQLRTRGAFETRFVSQVESDTGDRKQIYNILSTLGLRPSTTDCDIVRRACESVSTRAAHMCSAGLAGVINRMRESRSEDVMRITVGVDGSVYKLHPSFKERFHASVRRLTPSCEITFIESEEGSGRGAALVSAVACKKAC----'\n",
    "GCK_WT_small_do='------------------------------------------------------------------EGSEVGDFLSLDLGGTNFRVMLVKVGEGEEGQWSVKTKHQMYSIPEDAMTGTAEMLFDYISECISDFLDKHQMKHKKLPLGFTFSFPVRHEDIDKGILLNWTKGFKASGAEGNNVVGLLRDAIKRRGDFEMDVVAMV----------------------------------------------------------------------------------------------------------------------------------------------------------------------------------------------------------------------------------------------------------------------'"
   ]
  },
  {
   "cell_type": "code",
   "execution_count": 93,
   "id": "88bbee1d-f1d7-48f1-a514-7a6512236c4a",
   "metadata": {
    "tags": []
   },
   "outputs": [],
   "source": [
    "diff_cons_GKC=np.zeros(len(GCK_WT_sequence),dtype=int)"
   ]
  },
  {
   "cell_type": "code",
   "execution_count": 94,
   "id": "6e1e1574-5fcd-496d-9780-9951a24114df",
   "metadata": {
    "tags": []
   },
   "outputs": [],
   "source": [
    "for i,n in enumerate(GCK_WT_sequence):\n",
    "    if n == consensus_seque[i]:\n",
    "        diff_cons_GKC[i]=1"
   ]
  },
  {
   "cell_type": "markdown",
   "id": "2c77a8bc-281e-45ba-bdac-46c1a4f60e12",
   "metadata": {},
   "source": [
    "#### Load experimental data"
   ]
  },
  {
   "cell_type": "code",
   "execution_count": 95,
   "id": "5694eceb-82d7-482d-8cfa-9a4ae43ffa0b",
   "metadata": {
    "tags": []
   },
   "outputs": [
    {
     "name": "stdout",
     "output_type": "stream",
     "text": [
      "[[       nan        nan        nan ...        nan        nan        nan]\n",
      " [0.47370882 0.76026135 1.17439486 ... 1.68704651 1.02432969 1.00047111]\n",
      " [1.05050524 0.96763201        nan ... 0.52479177 1.54131692 0.96495525]\n",
      " ...\n",
      " [1.41978183 0.76604617 1.87158453 ... 0.92376059 1.18721564 1.07026878]\n",
      " [1.19791722 0.39494738 0.90150363 ... 0.56074835 0.56652803 0.84600014]\n",
      " [1.99840705 1.0127656  1.12721214 ... 1.5376213  1.40138102 0.98352022]]\n"
     ]
    }
   ],
   "source": [
    "df_mave=pd.read_csv('../data/data_train_validation_func_esms/exp_score/GCK_activity_Gersing_2023_GenBiol.csv', sep=',', comment='#')\n",
    "\n",
    "mutation_load=np.array(df_mave.iloc[:,0])\n",
    "score_load=np.array(df_mave.iloc[:,1])\n",
    "errors_load=np.array(df_mave.iloc[:,4])\n",
    "\n",
    "GCK_activity_scores=np.empty((len(GCK_WT_sequence),20),dtype=float)\n",
    "GCK_activity_scores[:]=np.nan\n",
    "\n",
    "GCK_errors=np.empty((len(GCK_WT_sequence),20),dtype=float)\n",
    "GCK_errors[:]=np.nan\n",
    "\n",
    "for i in range(len(mutation_load)):\n",
    "    if  mutation_load[i][len(mutation_load[i])-1]!= '=' and mutation_load[i][-3:] != 'Ter' :\n",
    "        GCK_activity_scores[int(mutation_load[i][5:len(mutation_load[i])-3])-1, alphabetAA_L_D[alphabetAA_3L_1L[mutation_load[i][-3:]]]-1]= float(score_load[i])\n",
    "        GCK_errors[int(mutation_load[i][5:len(mutation_load[i])-3])-1, alphabetAA_L_D[alphabetAA_3L_1L[mutation_load[i][-3:]]]-1]= float(errors_load[i])\n",
    "print(GCK_activity_scores)"
   ]
  },
  {
   "cell_type": "code",
   "execution_count": 96,
   "id": "f1f5e64a-26c7-4dcc-97b5-8f07883b7a5d",
   "metadata": {
    "tags": []
   },
   "outputs": [
    {
     "name": "stdout",
     "output_type": "stream",
     "text": [
      "[[       nan        nan        nan ...        nan        nan        nan]\n",
      " [0.84649739 1.01301806 1.13386807 ... 1.10515067 0.6540466  1.03507594]\n",
      " [0.72560216 0.61368334        nan ... 0.43192961 0.3836345  0.05354563]\n",
      " ...\n",
      " [1.08244207 0.96966573 0.91602712 ... 1.02988275 1.00289093        nan]\n",
      " [0.75026721 0.76171314 1.168608   ... 0.70328755        nan 0.7304929 ]\n",
      " [0.92405485 0.98767745        nan ... 0.63112163 0.75548628 0.77510853]]\n"
     ]
    }
   ],
   "source": [
    "df_mave=pd.read_csv('../data/data_train_validation_func_esms/exp_score/GCK_abudance_Gersing_2024_GenBiol.csv', sep=',', comment='#')\n",
    "\n",
    "mutation_load=np.array(df_mave.iloc[:,0])\n",
    "score_load=np.array(df_mave.iloc[:,1])\n",
    "errors_load=np.array(df_mave.iloc[:,3])\n",
    "\n",
    "GCK_abundance_scores=np.empty((len(GCK_WT_sequence),20),dtype=float)\n",
    "GCK_abundance_scores[:]=np.nan\n",
    "\n",
    "GCK_abundance_errors=np.empty((len(GCK_WT_sequence),20),dtype=float)\n",
    "GCK_abundance_errors[:]=np.nan\n",
    "\n",
    "for i in range(len(mutation_load)):\n",
    "    if  mutation_load[i][len(mutation_load[i])-1]!= '=' and mutation_load[i][-3:] != 'Ter' :\n",
    "        GCK_abundance_scores[int(mutation_load[i][5:len(mutation_load[i])-3])-1, alphabetAA_L_D[alphabetAA_3L_1L[mutation_load[i][-3:]]]-1]= float(score_load[i])\n",
    "        GCK_abundance_errors[int(mutation_load[i][5:len(mutation_load[i])-3])-1, alphabetAA_L_D[alphabetAA_3L_1L[mutation_load[i][-3:]]]-1]= float(errors_load[i])\n",
    "print(GCK_abundance_scores)"
   ]
  },
  {
   "cell_type": "code",
   "execution_count": 97,
   "id": "bc170b82-0704-49bd-81d3-bbc9ba3d648c",
   "metadata": {
    "tags": []
   },
   "outputs": [],
   "source": [
    "GCK_labels=multiclass_threshold(GCK_abundance_scores,GCK_activity_scores,0.66,0.58)\n"
   ]
  },
  {
   "cell_type": "code",
   "execution_count": 98,
   "id": "36f76ebd-d66b-4cb9-a2f9-bffaf230c017",
   "metadata": {
    "tags": []
   },
   "outputs": [],
   "source": [
    "GCK_labels_mode,counts=sp.stats.mode(GCK_labels,axis=1)"
   ]
  },
  {
   "cell_type": "markdown",
   "id": "18b0de56-4ab8-40d2-8849-5d6bf7c3fdcb",
   "metadata": {},
   "source": [
    "#### load computational data"
   ]
  },
  {
   "cell_type": "markdown",
   "id": "04cb7f2f-a477-4a3f-9d26-03a2cb619c2a",
   "metadata": {},
   "source": [
    "##### functional model\n",
    "\n",
    "prediction functional model generated via the colab implementation"
   ]
  },
  {
   "cell_type": "code",
   "execution_count": 99,
   "id": "88b31c73-3aab-46e4-9373-44d0cf456a72",
   "metadata": {
    "tags": []
   },
   "outputs": [],
   "source": [
    "df_in=pd.read_csv('../data/data_train_validation_func_esms/extra_data/GCK_P35557_FunctionalModel_variant_predictions.csv')"
   ]
  },
  {
   "cell_type": "code",
   "execution_count": 100,
   "id": "60b26c13-0ffb-453c-9258-95ce26bd3d6f",
   "metadata": {
    "tags": []
   },
   "outputs": [],
   "source": [
    "GCK_fm_variants=np.empty((GCK_labels.shape[0],20),dtype=float)\n",
    "GCK_fm_variants[:]=np.nan"
   ]
  },
  {
   "cell_type": "code",
   "execution_count": 101,
   "id": "f15ec50d-cbb6-4102-b0b7-719ceee809fd",
   "metadata": {
    "tags": []
   },
   "outputs": [],
   "source": [
    "for idx,row in df_in.iterrows():\n",
    "    if not np.isnan(row['Variant_class_digit']):\n",
    "        GCK_fm_variants[int(row['Mutation'][1:-1])-1,alphabetAA_L_D[row['Mutation'][-1]]-1]=row['Variant_class_digit']\n",
    "    "
   ]
  },
  {
   "cell_type": "code",
   "execution_count": 102,
   "id": "ccab5045-ee0c-4472-985c-4649b899c812",
   "metadata": {
    "tags": []
   },
   "outputs": [],
   "source": [
    "df_in=pd.read_csv('../data/data_train_validation_func_esms/extra_data/GCK_P35557_FunctionalModel_residue_predictions.csv')"
   ]
  },
  {
   "cell_type": "code",
   "execution_count": 103,
   "id": "5e01008c-c114-4bbc-b131-b22d36511b2f",
   "metadata": {
    "tags": []
   },
   "outputs": [],
   "source": [
    "GCK_fm_residues=np.empty(GCK_labels_mode.shape[0],dtype=float)\n",
    "GCK_fm_residues[:]=np.nan"
   ]
  },
  {
   "cell_type": "code",
   "execution_count": 104,
   "id": "651164c9-8545-4ea6-b37e-178cee3b5f55",
   "metadata": {
    "tags": []
   },
   "outputs": [],
   "source": [
    "for idx,row in df_in.iterrows():\n",
    "    if not np.isnan(row['Residue_class_digit']):\n",
    "        GCK_fm_residues[int(row['Residue'][1:])-1]=row['Residue_class_digit']\n",
    "    "
   ]
  },
  {
   "cell_type": "markdown",
   "id": "762e5b82-d72e-4b0b-8e1d-ca4ea9d7cc2a",
   "metadata": {},
   "source": [
    "##### esms"
   ]
  },
  {
   "cell_type": "code",
   "execution_count": 105,
   "id": "0f3e0aee-4726-45fc-acde-ba81e4077380",
   "metadata": {
    "tags": []
   },
   "outputs": [],
   "source": [
    "GCK_ESM1b_marginals=load_data('../data/data_train_validation_func_esms/esm_1b/prism_P35557_ESM.txt',GCK_WT_sequence)        "
   ]
  },
  {
   "cell_type": "code",
   "execution_count": 106,
   "id": "7bfdd43c-59f5-4f04-8453-242c24249c4a",
   "metadata": {
    "tags": []
   },
   "outputs": [],
   "source": [
    "GCK_IF=load_data('../data/data_train_validation_func_esms/esm_if/prism_ESM_IF_P35557_A_marginals.txt',GCK_WT_sequence)"
   ]
  },
  {
   "cell_type": "markdown",
   "id": "936af5e7-f5e4-42a7-a542-d3e322749e78",
   "metadata": {},
   "source": [
    "### validation on the three training set of the Functional Model (Cagiada,2023)"
   ]
  },
  {
   "cell_type": "markdown",
   "id": "2565cb1b-f570-4f5b-b3d3-4c0fa817929d",
   "metadata": {},
   "source": [
    "#### ALL"
   ]
  },
  {
   "cell_type": "code",
   "execution_count": 107,
   "id": "e99ab242-2ac6-48c2-9b13-7d61f1694330",
   "metadata": {
    "tags": []
   },
   "outputs": [],
   "source": [
    "NUDT15_labels=multiclass_threshold(NUDT15_abundance,NUDT15_function,0.38,0.51)\n",
    "PTEN_labels=multiclass_threshold(PTEN_abundance,PTEN_function,0.54,-0.9)\n",
    "CYP2C9_labels=multiclass_threshold(CYP2C9_abundance,CYP2C9_function,0.38,0.40)"
   ]
  },
  {
   "cell_type": "code",
   "execution_count": 108,
   "id": "03851976-e669-4469-9fd5-3dfb7d51bab3",
   "metadata": {
    "tags": []
   },
   "outputs": [],
   "source": [
    "NUDT15_X,NUDT15_Y,NUDT15_map=features_classification([NUDT15_ESM_1b_scores, NUDT15_IF],[NUDT15_labels],NUDT15_WT_sequence)\n",
    "\n",
    "PTEN_X,PTEN_Y,PTEN_map=features_classification([PTEN_ESM_1b_scores, PTEN_IF],[PTEN_labels],PTEN_WT_sequence)\n",
    "\n",
    "CYP2C9_X,CYP2C9_Y,CYP2C9_map=features_classification([CYP2C9_ESM_1b_scores,CYP2C9_IF],[CYP2C9_labels],CYP2C9_WT_sequence)\n"
   ]
  },
  {
   "cell_type": "code",
   "execution_count": 109,
   "id": "8c0ba239-6611-4e2b-afd6-d096f966f1be",
   "metadata": {
    "tags": []
   },
   "outputs": [],
   "source": [
    "X_test_all=np.concatenate((NUDT15_X,PTEN_X,CYP2C9_X))\n",
    "\n",
    "Y_test_all=np.concatenate((NUDT15_Y,PTEN_Y,CYP2C9_Y))\n"
   ]
  },
  {
   "cell_type": "code",
   "execution_count": 110,
   "id": "f5f17244-1b74-419c-9c20-f857ca0509f7",
   "metadata": {
    "tags": []
   },
   "outputs": [],
   "source": [
    "Y_variant_pred=esms_model_variant_classes(X_test_all[:,0],X_test_all[:,1],esm1b_t=-6,esmif_t=-7.5)"
   ]
  },
  {
   "cell_type": "code",
   "execution_count": 111,
   "id": "396ab6d2-e782-4b04-905f-89db58defe20",
   "metadata": {
    "tags": []
   },
   "outputs": [],
   "source": [
    "idx = np.isfinite(Y_test_all.flatten()) & np.isfinite(Y_variant_pred.flatten())"
   ]
  },
  {
   "cell_type": "code",
   "execution_count": 112,
   "id": "1ed69a70-4a85-419f-ba98-dc8937d301c0",
   "metadata": {
    "tags": []
   },
   "outputs": [
    {
     "name": "stdout",
     "output_type": "stream",
     "text": [
      "              precision    recall  f1-score   support\n",
      "\n",
      "         0.0      0.879     0.519     0.653      6399\n",
      "         1.0      0.210     0.304     0.249      1981\n",
      "         2.0      0.437     0.835     0.573      1895\n",
      "\n",
      "    accuracy                          0.536     10275\n",
      "   macro avg      0.509     0.553     0.492     10275\n",
      "weighted avg      0.668     0.536     0.560     10275\n",
      "\n"
     ]
    }
   ],
   "source": [
    "print(classification_report(Y_test_all.flatten()[idx],Y_variant_pred.flatten()[idx], digits=3))"
   ]
  },
  {
   "cell_type": "markdown",
   "id": "4d23f80f-f736-46e4-83e3-85a972020c83",
   "metadata": {},
   "source": [
    "#### only PTEN"
   ]
  },
  {
   "cell_type": "code",
   "execution_count": 113,
   "id": "db4191f2-2156-4604-8e2c-cda321a95887",
   "metadata": {
    "tags": []
   },
   "outputs": [],
   "source": [
    "Y_variant_pred=esms_model_variant_classes(PTEN_X[:,0],PTEN_X[:,1],esm1b_t=-6.5,esmif_t=-7.0)"
   ]
  },
  {
   "cell_type": "code",
   "execution_count": 114,
   "id": "76b6480f-8c17-4b1e-8bc4-c9d6974a6cec",
   "metadata": {
    "tags": []
   },
   "outputs": [],
   "source": [
    "idx = np.isfinite(np.array(PTEN_Y).flatten()) & np.isfinite(Y_variant_pred.flatten())"
   ]
  },
  {
   "cell_type": "code",
   "execution_count": 115,
   "id": "83790d11-e986-492e-93c5-5b6dde54488f",
   "metadata": {
    "tags": []
   },
   "outputs": [
    {
     "name": "stdout",
     "output_type": "stream",
     "text": [
      "              precision    recall  f1-score   support\n",
      "\n",
      "         0.0      0.827     0.441     0.575      2102\n",
      "         1.0      0.209     0.338     0.258       720\n",
      "         2.0      0.474     0.836     0.605       703\n",
      "\n",
      "    accuracy                          0.498      3525\n",
      "   macro avg      0.503     0.538     0.479      3525\n",
      "weighted avg      0.630     0.498     0.516      3525\n",
      "\n"
     ]
    }
   ],
   "source": [
    "print(classification_report(np.array(PTEN_Y).flatten()[idx],Y_variant_pred.flatten()[idx], digits=3))"
   ]
  },
  {
   "cell_type": "markdown",
   "id": "c1cc4ae8-49f5-4a76-a63d-a814e088802a",
   "metadata": {},
   "source": [
    "#### only NUDT15"
   ]
  },
  {
   "cell_type": "code",
   "execution_count": 116,
   "id": "1e42ba04-6cc8-4d12-8ade-c73334df578d",
   "metadata": {
    "tags": []
   },
   "outputs": [],
   "source": [
    "Y_variant_pred=esms_model_variant_classes(NUDT15_X[:,0],NUDT15_X[:,1],esm1b_t=-6.5,esmif_t=-7.0)"
   ]
  },
  {
   "cell_type": "code",
   "execution_count": 117,
   "id": "7412b8c8-d7d1-4ff1-981c-54b6c6c24b0a",
   "metadata": {
    "tags": []
   },
   "outputs": [],
   "source": [
    "idx = np.isfinite(np.array(NUDT15_Y).flatten()) & np.isfinite(Y_variant_pred.flatten())"
   ]
  },
  {
   "cell_type": "code",
   "execution_count": 118,
   "id": "910907ce-8355-4b15-ba59-5e6cef390662",
   "metadata": {
    "tags": []
   },
   "outputs": [
    {
     "name": "stdout",
     "output_type": "stream",
     "text": [
      "              precision    recall  f1-score   support\n",
      "\n",
      "         0.0      0.968     0.686     0.803      1708\n",
      "         1.0      0.252     0.506     0.336       265\n",
      "         2.0      0.513     0.808     0.628       401\n",
      "\n",
      "    accuracy                          0.687      2374\n",
      "   macro avg      0.578     0.667     0.589      2374\n",
      "weighted avg      0.811     0.687     0.721      2374\n",
      "\n"
     ]
    }
   ],
   "source": [
    "print(classification_report(np.array(NUDT15_Y).flatten()[idx],Y_variant_pred.flatten()[idx], digits=3))"
   ]
  },
  {
   "cell_type": "markdown",
   "id": "403b36d3-b1fc-4e35-ac83-b26bdaaa581a",
   "metadata": {},
   "source": [
    "#### only CYP2C9"
   ]
  },
  {
   "cell_type": "code",
   "execution_count": 119,
   "id": "8d70940f-1e9d-4c9c-b4e1-3fb9f0a6ffda",
   "metadata": {
    "tags": []
   },
   "outputs": [],
   "source": [
    "Y_variant_pred=esms_model_variant_classes(CYP2C9_X[:,0],CYP2C9_X[:,1],esm1b_t=-6.5,esmif_t=-7.0)"
   ]
  },
  {
   "cell_type": "code",
   "execution_count": 120,
   "id": "003f66ad-6c0e-4230-964b-c2bf7bc5ed29",
   "metadata": {
    "tags": []
   },
   "outputs": [],
   "source": [
    "idx = np.isfinite(np.array(CYP2C9_Y).flatten()) & np.isfinite(Y_variant_pred.flatten())"
   ]
  },
  {
   "cell_type": "code",
   "execution_count": 121,
   "id": "7ff62c35-97a2-4912-b276-7b30894bf823",
   "metadata": {
    "tags": []
   },
   "outputs": [
    {
     "name": "stdout",
     "output_type": "stream",
     "text": [
      "              precision    recall  f1-score   support\n",
      "\n",
      "         0.0      0.829     0.584     0.685      2589\n",
      "         1.0      0.199     0.147     0.169       996\n",
      "         2.0      0.378     0.870     0.527       791\n",
      "\n",
      "    accuracy                          0.536      4376\n",
      "   macro avg      0.469     0.533     0.460      4376\n",
      "weighted avg      0.604     0.536     0.539      4376\n",
      "\n"
     ]
    }
   ],
   "source": [
    "print(classification_report(np.array(CYP2C9_Y).flatten()[idx],Y_variant_pred.flatten()[idx], digits=3))"
   ]
  },
  {
   "cell_type": "markdown",
   "id": "1f58dd8b-abf7-4bca-8c56-bf03bb269d9f",
   "metadata": {},
   "source": [
    "### validation on SH3"
   ]
  },
  {
   "cell_type": "code",
   "execution_count": 122,
   "id": "f2edeae4-80db-4fcb-aa1e-7afe19fbfd96",
   "metadata": {
    "tags": []
   },
   "outputs": [],
   "source": [
    "P62993_X,P62993_Y,P62993_map=features_classification([P62993_ESM1b_marginals, P62993_IF],[P62993_exp_variant_label],P62993_WT_sequence)\n"
   ]
  },
  {
   "cell_type": "code",
   "execution_count": 123,
   "id": "5fd35e2f-9fb4-46cc-b277-5038a16d5837",
   "metadata": {
    "tags": []
   },
   "outputs": [],
   "source": [
    "Y_variant_pred=esms_model_variant_classes(P62993_X[:,0],P62993_X[:,1],esm1b_t=-6.5,esmif_t=-7)"
   ]
  },
  {
   "cell_type": "code",
   "execution_count": 124,
   "id": "ab54eed7-2d3b-44fa-a21f-b049ceb35fc6",
   "metadata": {
    "tags": []
   },
   "outputs": [],
   "source": [
    "idx = np.isfinite(np.array(P62993_Y).flatten()) & np.isfinite(Y_variant_pred.flatten())"
   ]
  },
  {
   "cell_type": "code",
   "execution_count": 125,
   "id": "b6c8bb07-50cd-45ed-974e-86f47f86d3dc",
   "metadata": {
    "tags": []
   },
   "outputs": [
    {
     "name": "stdout",
     "output_type": "stream",
     "text": [
      "              precision    recall  f1-score   support\n",
      "\n",
      "         0.0      0.833     0.735     0.781       388\n",
      "         1.0      0.239     0.585     0.339        65\n",
      "         2.0      0.831     0.700     0.760       303\n",
      "\n",
      "    accuracy                          0.708       756\n",
      "   macro avg      0.635     0.673     0.627       756\n",
      "weighted avg      0.781     0.708     0.734       756\n",
      "\n"
     ]
    }
   ],
   "source": [
    "print(classification_report(np.array(P62993_Y).flatten()[idx],Y_variant_pred.flatten()[idx], digits=3))"
   ]
  },
  {
   "cell_type": "code",
   "execution_count": 126,
   "id": "9f5fdfa9-7a7e-45c1-9dcf-5fbdf5e005d4",
   "metadata": {
    "tags": []
   },
   "outputs": [],
   "source": [
    "Y_variant_detr=np.zeros(Y_variant_pred.shape[0],dtype=int)\n",
    "for idx,Y_pred in enumerate(Y_variant_pred):\n",
    "    if np.isnan(Y_pred):\n",
    "        Y_variant_detr[idx]=np.nan\n",
    "    else:\n",
    "        if Y_pred !=0:\n",
    "            Y_variant_detr[idx]=1"
   ]
  },
  {
   "cell_type": "code",
   "execution_count": 127,
   "id": "b5f94114-4337-48f6-87f9-fce15259d736",
   "metadata": {
    "tags": []
   },
   "outputs": [],
   "source": [
    "P62993_Y_detr=np.zeros(np.array(P62993_Y).shape[0],dtype=int)\n",
    "for idx,Y_pred in enumerate(P62993_Y):\n",
    "    if np.isnan(Y_pred):\n",
    "        P62993_Y_detr[idx]=np.nan\n",
    "    else:\n",
    "        if Y_pred[0] !=0:\n",
    "            P62993_Y_detr[idx]=1"
   ]
  },
  {
   "cell_type": "code",
   "execution_count": 128,
   "id": "b0b114a6-b994-48c4-8aa1-ee432cf49dd4",
   "metadata": {
    "tags": []
   },
   "outputs": [],
   "source": [
    "idx = np.isfinite(np.array(P62993_Y_detr).flatten()) & np.isfinite(Y_variant_detr.flatten())"
   ]
  },
  {
   "cell_type": "code",
   "execution_count": 129,
   "id": "ec413a94-eb49-4695-9eb2-076b6383843c",
   "metadata": {
    "tags": []
   },
   "outputs": [
    {
     "name": "stdout",
     "output_type": "stream",
     "text": [
      "              precision    recall  f1-score   support\n",
      "\n",
      "           0      0.833     0.735     0.781       388\n",
      "           1      0.751     0.845     0.795       368\n",
      "\n",
      "    accuracy                          0.788       756\n",
      "   macro avg      0.792     0.790     0.788       756\n",
      "weighted avg      0.793     0.788     0.788       756\n",
      "\n"
     ]
    }
   ],
   "source": [
    "print(classification_report(np.array(P62993_Y_detr).flatten()[idx],Y_variant_detr.flatten()[idx], digits=3))"
   ]
  },
  {
   "cell_type": "code",
   "execution_count": 130,
   "id": "56ebed8d-c278-4ddb-bfe5-5816d5c2bb88",
   "metadata": {
    "tags": []
   },
   "outputs": [],
   "source": [
    "Y_res_pred,_=retrieve_residue_label_pred(Y_variant_pred,P62993_map,P62993_WT_sequence,0.50)"
   ]
  },
  {
   "cell_type": "code",
   "execution_count": 131,
   "id": "ba3eebbe-baca-48e1-b9a2-7d26fb8e59c2",
   "metadata": {
    "tags": []
   },
   "outputs": [],
   "source": [
    "idx = np.isfinite(np.array(P62993_exp_residue_label).flatten()) & np.isfinite(Y_res_pred.flatten())"
   ]
  },
  {
   "cell_type": "code",
   "execution_count": 132,
   "id": "3c51c32d-1f89-4cdb-9c28-3f56644cbea3",
   "metadata": {
    "tags": []
   },
   "outputs": [
    {
     "name": "stdout",
     "output_type": "stream",
     "text": [
      "              precision    recall  f1-score   support\n",
      "\n",
      "         0.0      0.900     0.643     0.750        28\n",
      "         1.0      0.333     0.800     0.471         5\n",
      "         2.0      0.857     0.783     0.818        23\n",
      "         5.0      0.000     0.000     0.000         0\n",
      "\n",
      "    accuracy                          0.714        56\n",
      "   macro avg      0.523     0.556     0.510        56\n",
      "weighted avg      0.832     0.714     0.753        56\n",
      "\n"
     ]
    }
   ],
   "source": [
    "print(classification_report(np.array(P62993_exp_residue_label).flatten()[idx],Y_res_pred.flatten()[idx], digits=3))"
   ]
  },
  {
   "cell_type": "markdown",
   "id": "6b49c6e1-6620-4a5d-9209-e16140210ebf",
   "metadata": {},
   "source": [
    "### Plot and comparison with Functional Model\n",
    "\n",
    "N.B. data for the functional model has been collected from the SI of Cagiada,2023 - Ncomms"
   ]
  },
  {
   "cell_type": "markdown",
   "id": "140b3926-a0eb-4de4-8455-9253ea5b8edd",
   "metadata": {},
   "source": [
    "#### training set"
   ]
  },
  {
   "cell_type": "code",
   "execution_count": 133,
   "id": "6181d3a1-9c6f-4ba2-b043-6a46c373cad1",
   "metadata": {
    "tags": []
   },
   "outputs": [],
   "source": [
    "model_name=['functional model','FunC-ESMs model']\n",
    "NUDT15_F1=[0.27,0.35]\n",
    "PTEN_F1=[0.13, 0.26]\n",
    "CYP2C9_F1=[0.32,0.21]"
   ]
  },
  {
   "cell_type": "code",
   "execution_count": 134,
   "id": "56e4e93f-774f-445b-b228-9cbc40ab5490",
   "metadata": {
    "tags": []
   },
   "outputs": [],
   "source": [
    "training_pd_stats=pd.DataFrame({'NUDT15':NUDT15_F1,'PTEN':PTEN_F1,'CYP2C9':CYP2C9_F1},index=model_name)\n",
    "training_pd_stats_T=training_pd_stats.T\n"
   ]
  },
  {
   "cell_type": "code",
   "execution_count": 135,
   "id": "22c536e9-0b92-4b12-bb9b-5ad343a6383a",
   "metadata": {
    "tags": []
   },
   "outputs": [
    {
     "data": {
      "text/plain": [
       "(0.0, 0.5)"
      ]
     },
     "execution_count": 135,
     "metadata": {},
     "output_type": "execute_result"
    },
    {
     "data": {
      "image/png": "[encoded data removed]",
      "text/plain": [
       "<Figure size 500x500 with 1 Axes>"
      ]
     },
     "metadata": {},
     "output_type": "display_data"
    }
   ],
   "source": [
    "fig,ax1=plt.subplots(1,figsize=(5,5))\n",
    "training_pd_stats_T.plot.bar(rot=0,ax=ax1,edgecolor='k',color=['#d55c00','#009e74'])\n",
    "ax1.set_ylabel('F1 functional variants')\n",
    "ax1.set_ylim(0,0.50)\n",
    "\n",
    "#plt.savefig('../figures/benchmark_with_fm_trainingset.pdf')"
   ]
  },
  {
   "cell_type": "markdown",
   "id": "99968e7f-23a5-472e-8a81-d4f962aaf19c",
   "metadata": {
    "tags": []
   },
   "source": [
    "#### SH3"
   ]
  },
  {
   "cell_type": "code",
   "execution_count": 136,
   "id": "d64c30db-f4be-4cd4-8831-3dbfe41f95f5",
   "metadata": {
    "tags": []
   },
   "outputs": [],
   "source": [
    "model_name=['GEMME-Rosetta','functional_model','Func-ESMs model']\n",
    "v_precision_SH3_funct=[0.33,0.25,0.25]\n",
    "v_recall_SH3_func=[0.30,0.500,0.55]\n",
    "v_F1_SH3_func=[0.31,0.32,0.34]\n",
    "v_F1_SH3_all=[0.65,0.67,0.74]\n",
    "r_F1_SH3_func=[0.40,0.61,0.55]\n",
    "r_F1_SH3_all=[0.7,0.75,0.76]"
   ]
  },
  {
   "cell_type": "code",
   "execution_count": 137,
   "id": "0f3de55d-b2b8-4a8a-b938-d871aa54b168",
   "metadata": {
    "tags": []
   },
   "outputs": [],
   "source": [
    "SH3_pd_stats=pd.DataFrame({'v_precision_SH3_funct':v_precision_SH3_funct,\n",
    "                                'v_recall_SH3_func':v_recall_SH3_func,\n",
    "                                'v_F1_SH3_func':v_F1_SH3_func,\n",
    "                                'v_F1_SH3_all':v_F1_SH3_all,\n",
    "                                'r_F1_SH3_func':r_F1_SH3_func,\n",
    "                                'r_F1_SH3_all':r_F1_SH3_all\n",
    "                               },index=model_name)\n",
    "SH3_pd_stats_T=training_pd_stats.T\n"
   ]
  },
  {
   "cell_type": "code",
   "execution_count": 138,
   "id": "51daafbc-b3b6-420d-8a80-60be4686e4a7",
   "metadata": {
    "tags": []
   },
   "outputs": [
    {
     "data": {
      "text/plain": [
       "<Axes: >"
      ]
     },
     "execution_count": 138,
     "metadata": {},
     "output_type": "execute_result"
    },
    {
     "data": {
      "image/png": "[encoded data removed]",
      "text/plain": [
       "<Figure size 1000x400 with 1 Axes>"
      ]
     },
     "metadata": {},
     "output_type": "display_data"
    }
   ],
   "source": [
    "fig,ax1=plt.subplots(1,figsize=(10,4))\n",
    "SH3_pd_stats_T.plot.bar(rot=0,ax=ax1,edgecolor='k',color=['#d55c00','#009e74','#56b4e9'])\n",
    "#plt.savefig('../figures/benchmark_with_fm_SH3.pdf')"
   ]
  },
  {
   "cell_type": "markdown",
   "id": "3fc4d2bb-b07d-43f7-b4a7-0a00a4f7a7d8",
   "metadata": {},
   "source": [
    "### GCK"
   ]
  },
  {
   "cell_type": "code",
   "execution_count": 139,
   "id": "d156fd83-6416-4c4d-9e1c-62972bb641c4",
   "metadata": {
    "tags": []
   },
   "outputs": [],
   "source": [
    "GCK_X,GCK_Y,GCK_map=features_classification([GCK_ESM1b_marginals, GCK_IF],[GCK_labels],GCK_WT_sequence)\n"
   ]
  },
  {
   "cell_type": "code",
   "execution_count": 140,
   "id": "236e36ec-037e-4084-8ae3-2153bd791c75",
   "metadata": {
    "tags": []
   },
   "outputs": [],
   "source": [
    "GCK_variant_pred=esms_model_variant_classes(GCK_X[:,0],GCK_X[:,1],esm1b_t=-6.5,esmif_t=-7)"
   ]
  },
  {
   "cell_type": "code",
   "execution_count": 141,
   "id": "4eac997b-21ce-4508-b890-a4667fd6596c",
   "metadata": {
    "tags": []
   },
   "outputs": [],
   "source": [
    "GCK_variant_pred=esms_model_variant_classes(GCK_X[:,0],GCK_X[:,1],esm1b_t=-9,esmif_t=-9)"
   ]
  },
  {
   "cell_type": "code",
   "execution_count": 142,
   "id": "81df69ae-4a74-40b0-a5e5-b93df1725899",
   "metadata": {
    "tags": []
   },
   "outputs": [],
   "source": [
    "GCK_res_pred,_=retrieve_residue_label_pred(GCK_variant_pred,GCK_map,GCK_WT_sequence,0.50)"
   ]
  },
  {
   "cell_type": "markdown",
   "id": "d3db9c6b-0ee3-4048-b45c-fda27b1767a5",
   "metadata": {},
   "source": [
    "#### Comparison FM vs FunC-ESMs"
   ]
  },
  {
   "cell_type": "markdown",
   "id": "f3974fd6-05af-4f4d-a3ae-f40d084a44a3",
   "metadata": {
    "tags": []
   },
   "source": [
    "##### fm"
   ]
  },
  {
   "cell_type": "code",
   "execution_count": 143,
   "id": "e974f718-2089-4a6a-8c5d-a2e3a770f507",
   "metadata": {
    "tags": []
   },
   "outputs": [],
   "source": [
    "idx = np.isfinite(np.array(GCK_labels).flatten()) & np.isfinite(GCK_fm_variants.flatten())"
   ]
  },
  {
   "cell_type": "code",
   "execution_count": 144,
   "id": "e066214c-657b-4f62-83ab-c81bdb2bc18d",
   "metadata": {
    "tags": []
   },
   "outputs": [
    {
     "name": "stdout",
     "output_type": "stream",
     "text": [
      "              precision    recall  f1-score   support\n",
      "\n",
      "         0.0      0.628     0.798     0.702      2738\n",
      "         1.0      0.459     0.350     0.397      2254\n",
      "         2.0      0.607     0.542     0.573      1915\n",
      "\n",
      "    accuracy                          0.581      6907\n",
      "   macro avg      0.565     0.563     0.557      6907\n",
      "weighted avg      0.567     0.581     0.567      6907\n",
      "\n"
     ]
    }
   ],
   "source": [
    "print(classification_report(np.array(GCK_labels).flatten()[idx],GCK_fm_variants.flatten()[idx], digits=3))"
   ]
  },
  {
   "cell_type": "code",
   "execution_count": 145,
   "id": "bff97ac8-d0c2-4571-a2e1-559ec354309e",
   "metadata": {
    "tags": []
   },
   "outputs": [],
   "source": [
    "idx = np.isfinite(np.array(GCK_labels_mode).flatten()) & np.isfinite(GCK_fm_residues.flatten())"
   ]
  },
  {
   "cell_type": "code",
   "execution_count": 146,
   "id": "40515dfc-b54c-478d-99a7-ee3f8239bf20",
   "metadata": {
    "tags": []
   },
   "outputs": [
    {
     "name": "stdout",
     "output_type": "stream",
     "text": [
      "              precision    recall  f1-score   support\n",
      "\n",
      "         0.0      0.798     0.854     0.825       171\n",
      "         1.0      0.506     0.359     0.420       117\n",
      "         2.0      0.615     0.632     0.623       106\n",
      "         5.0      0.000     0.000     0.000         0\n",
      "\n",
      "    accuracy                          0.647       394\n",
      "   macro avg      0.480     0.461     0.467       394\n",
      "weighted avg      0.662     0.647     0.650       394\n",
      "\n"
     ]
    }
   ],
   "source": [
    "print(classification_report(np.array(GCK_labels_mode).flatten()[idx],GCK_fm_residues.flatten()[idx], digits=3))"
   ]
  },
  {
   "cell_type": "markdown",
   "id": "0b475d78-9aad-4f03-a67d-fa652e332f84",
   "metadata": {
    "tags": []
   },
   "source": [
    "##### FunC-ESMs"
   ]
  },
  {
   "cell_type": "code",
   "execution_count": 147,
   "id": "15fb2be9-c0ad-4717-b783-d8f1a6e8644a",
   "metadata": {
    "tags": []
   },
   "outputs": [],
   "source": [
    "idx = np.isfinite(np.array(GCK_Y).flatten()) & np.isfinite(GCK_variant_pred.flatten())"
   ]
  },
  {
   "cell_type": "code",
   "execution_count": 148,
   "id": "3ec111e8-0aa3-40ae-9fd7-d30421362c36",
   "metadata": {
    "tags": []
   },
   "outputs": [
    {
     "name": "stdout",
     "output_type": "stream",
     "text": [
      "              precision    recall  f1-score   support\n",
      "\n",
      "         0.0      0.668     0.709     0.688      2965\n",
      "         1.0      0.414     0.342     0.375      2284\n",
      "         2.0      0.539     0.599     0.567      1922\n",
      "\n",
      "    accuracy                          0.563      7171\n",
      "   macro avg      0.540     0.550     0.543      7171\n",
      "weighted avg      0.552     0.563     0.556      7171\n",
      "\n"
     ]
    }
   ],
   "source": [
    "print(classification_report(np.array(GCK_Y).flatten()[idx],GCK_variant_pred.flatten()[idx], digits=3))"
   ]
  },
  {
   "cell_type": "code",
   "execution_count": 149,
   "id": "93655f8c-f7fc-4b5a-9a3c-842db12f2086",
   "metadata": {
    "tags": []
   },
   "outputs": [],
   "source": [
    "idx = np.isfinite(np.array(GCK_labels_mode).flatten()) & np.isfinite(GCK_res_pred.flatten())"
   ]
  },
  {
   "cell_type": "code",
   "execution_count": 150,
   "id": "d30029be-fbe9-4743-9b75-861a421f2305",
   "metadata": {
    "tags": []
   },
   "outputs": [
    {
     "name": "stdout",
     "output_type": "stream",
     "text": [
      "              precision    recall  f1-score   support\n",
      "\n",
      "         0.0      0.881     0.719     0.792       185\n",
      "         1.0      0.473     0.376     0.419       117\n",
      "         2.0      0.545     0.632     0.585       106\n",
      "         5.0      0.000     0.000     0.000         0\n",
      "\n",
      "    accuracy                          0.598       408\n",
      "   macro avg      0.475     0.432     0.449       408\n",
      "weighted avg      0.677     0.598     0.631       408\n",
      "\n"
     ]
    }
   ],
   "source": [
    "print(classification_report(np.array(GCK_labels_mode).flatten()[idx],GCK_res_pred.flatten()[idx], digits=3))"
   ]
  },
  {
   "cell_type": "markdown",
   "id": "ca857f09-80c9-498a-95d7-d6c3e1fef23e",
   "metadata": {
    "tags": []
   },
   "source": [
    "#### results and plots"
   ]
  },
  {
   "cell_type": "code",
   "execution_count": 151,
   "id": "60dce421-1d2c-43d6-8485-e1d33051cdf5",
   "metadata": {
    "tags": []
   },
   "outputs": [],
   "source": [
    "model_name=['Functional model','FunC-ESMs model']\n",
    "v_precision_GCK_funct=[0.46,0.42]\n",
    "v_recall_GCK_func=[0.35,0.34]\n",
    "v_F1_GCK_func=[0.40,0.38]\n",
    "v_F1_GCK_all=[0.567,0.556]\n",
    "r_F1_GCK_func=[0.42,0.42]\n",
    "r_F1_GCK_all=[0.65,0.63]"
   ]
  },
  {
   "cell_type": "code",
   "execution_count": 152,
   "id": "56c44c7d-293a-4c1c-b7e9-866dc84980b4",
   "metadata": {
    "tags": []
   },
   "outputs": [],
   "source": [
    "GCK_pd_stats=pd.DataFrame({#'v_precision_GCK_funct':v_precision_GCK_funct,\n",
    "                                #'v_recall_GCK_func':v_recall_GCK_func,\n",
    "                                'v_F1_GCK_func':v_F1_GCK_func,\n",
    "                                'v_F1_GCK_all':v_F1_GCK_all,\n",
    "                                'r_F1_GCK_func':r_F1_GCK_func,\n",
    "                                'r_F1_GCK_all':r_F1_GCK_all\n",
    "                               },index=model_name)\n",
    "GCK_pd_stats_T=GCK_pd_stats.T\n"
   ]
  },
  {
   "cell_type": "code",
   "execution_count": 153,
   "id": "40c2f912-7c2b-43fc-bca6-894e6be02795",
   "metadata": {
    "tags": []
   },
   "outputs": [
    {
     "data": {
      "text/plain": [
       "<Axes: >"
      ]
     },
     "execution_count": 153,
     "metadata": {},
     "output_type": "execute_result"
    },
    {
     "data": {
      "image/png": "[encoded data removed]",
      "text/plain": [
       "<Figure size 1000x400 with 1 Axes>"
      ]
     },
     "metadata": {},
     "output_type": "display_data"
    }
   ],
   "source": [
    "fig,ax1=plt.subplots(1,figsize=(10,4))\n",
    "GCK_pd_stats_T.plot.bar(rot=0,ax=ax1,edgecolor='k',color=['#009e74','#56b4e9'])\n",
    "#plt.savefig('../figures/benchmark_with_fm_GCK.pdf')"
   ]
  }
 ],
 "metadata": {
  "kernelspec": {
   "display_name": "Python 3 (ipykernel)",
   "language": "python",
   "name": "python3"
  },
  "language_info": {
   "codemirror_mode": {
    "name": "ipython",
    "version": 3
   },
   "file_extension": ".py",
   "mimetype": "text/x-python",
   "name": "python",
   "nbconvert_exporter": "python",
   "pygments_lexer": "ipython3",
   "version": "3.10.13"
  }
 },
 "nbformat": 4,
 "nbformat_minor": 5
}
